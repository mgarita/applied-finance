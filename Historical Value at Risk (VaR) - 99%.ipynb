{
 "cells": [
  {
   "cell_type": "code",
   "execution_count": 1,
   "metadata": {
    "collapsed": true
   },
   "outputs": [],
   "source": [
    "#installing packages \n",
    "\n",
    "import numpy as np\n",
    "import pandas as pd\n",
    "from pandas_datareader import data as web\n",
    "import pandas_datareader\n",
    "import datetime\n",
    "import matplotlib.pyplot as plt\n",
    "from scipy import stats\n",
    "from scipy.stats import norm\n",
    "%matplotlib inline\n"
   ]
  },
  {
   "cell_type": "code",
   "execution_count": 2,
   "metadata": {},
   "outputs": [
    {
     "data": {
      "text/html": [
       "<div>\n",
       "<style>\n",
       "    .dataframe thead tr:only-child th {\n",
       "        text-align: right;\n",
       "    }\n",
       "\n",
       "    .dataframe thead th {\n",
       "        text-align: left;\n",
       "    }\n",
       "\n",
       "    .dataframe tbody tr th {\n",
       "        vertical-align: top;\n",
       "    }\n",
       "</style>\n",
       "<table border=\"1\" class=\"dataframe\">\n",
       "  <thead>\n",
       "    <tr style=\"text-align: right;\">\n",
       "      <th></th>\n",
       "      <th>AAPL</th>\n",
       "      <th>WMT</th>\n",
       "      <th>TM</th>\n",
       "      <th>KO</th>\n",
       "      <th>BA</th>\n",
       "    </tr>\n",
       "    <tr>\n",
       "      <th>Date</th>\n",
       "      <th></th>\n",
       "      <th></th>\n",
       "      <th></th>\n",
       "      <th></th>\n",
       "      <th></th>\n",
       "    </tr>\n",
       "  </thead>\n",
       "  <tbody>\n",
       "    <tr>\n",
       "      <th>2019-03-27</th>\n",
       "      <td>188.470001</td>\n",
       "      <td>97.209999</td>\n",
       "      <td>121.029999</td>\n",
       "      <td>46.610001</td>\n",
       "      <td>374.209991</td>\n",
       "    </tr>\n",
       "    <tr>\n",
       "      <th>2019-03-28</th>\n",
       "      <td>188.720001</td>\n",
       "      <td>97.129997</td>\n",
       "      <td>119.070000</td>\n",
       "      <td>46.580002</td>\n",
       "      <td>374.440002</td>\n",
       "    </tr>\n",
       "    <tr>\n",
       "      <th>2019-03-29</th>\n",
       "      <td>189.949997</td>\n",
       "      <td>97.529999</td>\n",
       "      <td>118.019997</td>\n",
       "      <td>46.860001</td>\n",
       "      <td>381.420013</td>\n",
       "    </tr>\n",
       "    <tr>\n",
       "      <th>2019-04-01</th>\n",
       "      <td>191.240005</td>\n",
       "      <td>97.820000</td>\n",
       "      <td>119.879997</td>\n",
       "      <td>46.720001</td>\n",
       "      <td>391.540009</td>\n",
       "    </tr>\n",
       "    <tr>\n",
       "      <th>2019-04-02</th>\n",
       "      <td>194.020004</td>\n",
       "      <td>96.940002</td>\n",
       "      <td>120.650002</td>\n",
       "      <td>46.570000</td>\n",
       "      <td>390.750000</td>\n",
       "    </tr>\n",
       "  </tbody>\n",
       "</table>\n",
       "</div>"
      ],
      "text/plain": [
       "                  AAPL        WMT          TM         KO          BA\n",
       "Date                                                                \n",
       "2019-03-27  188.470001  97.209999  121.029999  46.610001  374.209991\n",
       "2019-03-28  188.720001  97.129997  119.070000  46.580002  374.440002\n",
       "2019-03-29  189.949997  97.529999  118.019997  46.860001  381.420013\n",
       "2019-04-01  191.240005  97.820000  119.879997  46.720001  391.540009\n",
       "2019-04-02  194.020004  96.940002  120.650002  46.570000  390.750000"
      ]
     },
     "execution_count": 2,
     "metadata": {},
     "output_type": "execute_result"
    }
   ],
   "source": [
    "start = datetime.datetime(2018, 1, 2)\n",
    "end = datetime.datetime(2019, 4, 1)\n",
    "\n",
    "tickers = ['AAPL','WMT', 'TM','KO','BA']\n",
    "stocks = pd.DataFrame()\n",
    "for x in tickers:\n",
    "    stocks[x] = web.DataReader(x, 'yahoo', start, end)['Close']\n",
    "\n",
    "stocks.tail()"
   ]
  },
  {
   "cell_type": "code",
   "execution_count": 3,
   "metadata": {},
   "outputs": [
    {
     "data": {
      "text/html": [
       "<div>\n",
       "<style>\n",
       "    .dataframe thead tr:only-child th {\n",
       "        text-align: right;\n",
       "    }\n",
       "\n",
       "    .dataframe thead th {\n",
       "        text-align: left;\n",
       "    }\n",
       "\n",
       "    .dataframe tbody tr th {\n",
       "        vertical-align: top;\n",
       "    }\n",
       "</style>\n",
       "<table border=\"1\" class=\"dataframe\">\n",
       "  <thead>\n",
       "    <tr style=\"text-align: right;\">\n",
       "      <th></th>\n",
       "      <th>AAPL</th>\n",
       "      <th>WMT</th>\n",
       "      <th>TM</th>\n",
       "      <th>KO</th>\n",
       "      <th>BA</th>\n",
       "    </tr>\n",
       "    <tr>\n",
       "      <th>Date</th>\n",
       "      <th></th>\n",
       "      <th></th>\n",
       "      <th></th>\n",
       "      <th></th>\n",
       "      <th></th>\n",
       "    </tr>\n",
       "  </thead>\n",
       "  <tbody>\n",
       "    <tr>\n",
       "      <th>2019-03-27</th>\n",
       "      <td>0.008994</td>\n",
       "      <td>-0.011290</td>\n",
       "      <td>-0.006077</td>\n",
       "      <td>-0.000643</td>\n",
       "      <td>0.010341</td>\n",
       "    </tr>\n",
       "    <tr>\n",
       "      <th>2019-03-28</th>\n",
       "      <td>0.001326</td>\n",
       "      <td>-0.000823</td>\n",
       "      <td>-0.016194</td>\n",
       "      <td>-0.000644</td>\n",
       "      <td>0.000615</td>\n",
       "    </tr>\n",
       "    <tr>\n",
       "      <th>2019-03-29</th>\n",
       "      <td>0.006518</td>\n",
       "      <td>0.004118</td>\n",
       "      <td>-0.008818</td>\n",
       "      <td>0.006011</td>\n",
       "      <td>0.018641</td>\n",
       "    </tr>\n",
       "    <tr>\n",
       "      <th>2019-04-01</th>\n",
       "      <td>0.006791</td>\n",
       "      <td>0.002973</td>\n",
       "      <td>0.015760</td>\n",
       "      <td>-0.002988</td>\n",
       "      <td>0.026532</td>\n",
       "    </tr>\n",
       "    <tr>\n",
       "      <th>2019-04-02</th>\n",
       "      <td>0.014537</td>\n",
       "      <td>-0.008996</td>\n",
       "      <td>0.006423</td>\n",
       "      <td>-0.003211</td>\n",
       "      <td>-0.002018</td>\n",
       "    </tr>\n",
       "  </tbody>\n",
       "</table>\n",
       "</div>"
      ],
      "text/plain": [
       "                AAPL       WMT        TM        KO        BA\n",
       "Date                                                        \n",
       "2019-03-27  0.008994 -0.011290 -0.006077 -0.000643  0.010341\n",
       "2019-03-28  0.001326 -0.000823 -0.016194 -0.000644  0.000615\n",
       "2019-03-29  0.006518  0.004118 -0.008818  0.006011  0.018641\n",
       "2019-04-01  0.006791  0.002973  0.015760 -0.002988  0.026532\n",
       "2019-04-02  0.014537 -0.008996  0.006423 -0.003211 -0.002018"
      ]
     },
     "execution_count": 3,
     "metadata": {},
     "output_type": "execute_result"
    }
   ],
   "source": [
    "stocks_return = (stocks/stocks.shift(1))-1\n",
    "stocks_return.tail()"
   ]
  },
  {
   "cell_type": "code",
   "execution_count": 4,
   "metadata": {},
   "outputs": [
    {
     "data": {
      "text/plain": [
       "array([ 0.03431274,  0.24577416,  0.41835291,  0.24327378,  0.05828641])"
      ]
     },
     "execution_count": 4,
     "metadata": {},
     "output_type": "execute_result"
    }
   ],
   "source": [
    "portfolio_weights = np.array(np.random.random(5))\n",
    "portfolio_weights\n",
    "portfolio_weights = portfolio_weights/np.sum(portfolio_weights)\n",
    "portfolio_weights"
   ]
  },
  {
   "cell_type": "code",
   "execution_count": 7,
   "metadata": {},
   "outputs": [],
   "source": [
    "weighted_returns_portfolio = stocks_return.mul(portfolio_weights, axis = 1)"
   ]
  },
  {
   "cell_type": "code",
   "execution_count": 8,
   "metadata": {},
   "outputs": [
    {
     "data": {
      "text/html": [
       "<div>\n",
       "<style>\n",
       "    .dataframe thead tr:only-child th {\n",
       "        text-align: right;\n",
       "    }\n",
       "\n",
       "    .dataframe thead th {\n",
       "        text-align: left;\n",
       "    }\n",
       "\n",
       "    .dataframe tbody tr th {\n",
       "        vertical-align: top;\n",
       "    }\n",
       "</style>\n",
       "<table border=\"1\" class=\"dataframe\">\n",
       "  <thead>\n",
       "    <tr style=\"text-align: right;\">\n",
       "      <th></th>\n",
       "      <th>AAPL</th>\n",
       "      <th>WMT</th>\n",
       "      <th>TM</th>\n",
       "      <th>KO</th>\n",
       "      <th>BA</th>\n",
       "      <th>Portfolio</th>\n",
       "    </tr>\n",
       "    <tr>\n",
       "      <th>Date</th>\n",
       "      <th></th>\n",
       "      <th></th>\n",
       "      <th></th>\n",
       "      <th></th>\n",
       "      <th></th>\n",
       "      <th></th>\n",
       "    </tr>\n",
       "  </thead>\n",
       "  <tbody>\n",
       "    <tr>\n",
       "      <th>2018-01-02</th>\n",
       "      <td>NaN</td>\n",
       "      <td>NaN</td>\n",
       "      <td>NaN</td>\n",
       "      <td>NaN</td>\n",
       "      <td>NaN</td>\n",
       "      <td>0.000000</td>\n",
       "    </tr>\n",
       "    <tr>\n",
       "      <th>2018-01-03</th>\n",
       "      <td>-0.000174</td>\n",
       "      <td>0.008723</td>\n",
       "      <td>0.013710</td>\n",
       "      <td>-0.002196</td>\n",
       "      <td>0.003234</td>\n",
       "      <td>0.752801</td>\n",
       "    </tr>\n",
       "    <tr>\n",
       "      <th>2018-01-04</th>\n",
       "      <td>0.004645</td>\n",
       "      <td>0.000905</td>\n",
       "      <td>0.015600</td>\n",
       "      <td>0.014085</td>\n",
       "      <td>-0.003794</td>\n",
       "      <td>1.011327</td>\n",
       "    </tr>\n",
       "    <tr>\n",
       "      <th>2018-01-05</th>\n",
       "      <td>0.011385</td>\n",
       "      <td>0.005927</td>\n",
       "      <td>0.012863</td>\n",
       "      <td>-0.000217</td>\n",
       "      <td>0.041022</td>\n",
       "      <td>0.956698</td>\n",
       "    </tr>\n",
       "    <tr>\n",
       "      <th>2018-01-08</th>\n",
       "      <td>-0.003714</td>\n",
       "      <td>0.014781</td>\n",
       "      <td>0.006798</td>\n",
       "      <td>-0.001519</td>\n",
       "      <td>0.004242</td>\n",
       "      <td>0.622693</td>\n",
       "    </tr>\n",
       "  </tbody>\n",
       "</table>\n",
       "</div>"
      ],
      "text/plain": [
       "                AAPL       WMT        TM        KO        BA  Portfolio\n",
       "Date                                                                   \n",
       "2018-01-02       NaN       NaN       NaN       NaN       NaN   0.000000\n",
       "2018-01-03 -0.000174  0.008723  0.013710 -0.002196  0.003234   0.752801\n",
       "2018-01-04  0.004645  0.000905  0.015600  0.014085 -0.003794   1.011327\n",
       "2018-01-05  0.011385  0.005927  0.012863 -0.000217  0.041022   0.956698\n",
       "2018-01-08 -0.003714  0.014781  0.006798 -0.001519  0.004242   0.622693"
      ]
     },
     "execution_count": 8,
     "metadata": {},
     "output_type": "execute_result"
    }
   ],
   "source": [
    "stocks_return['Portfolio'] = weighted_returns_portfolio.sum(axis=1).dropna() \n",
    "stocks_return['Portfolio'] = stocks_return['Portfolio'] * 100\n",
    "stocks_return.head()"
   ]
  },
  {
   "cell_type": "code",
   "execution_count": 10,
   "metadata": {},
   "outputs": [
    {
     "data": {
      "text/plain": [
       "-2.5793928700853099"
      ]
     },
     "execution_count": 10,
     "metadata": {},
     "output_type": "execute_result"
    }
   ],
   "source": [
    "var99 = np.percentile(stocks_return['Portfolio'], 1) \n",
    "var99"
   ]
  },
  {
   "cell_type": "code",
   "execution_count": null,
   "metadata": {
    "collapsed": true
   },
   "outputs": [],
   "source": []
  }
 ],
 "metadata": {
  "kernelspec": {
   "display_name": "Python 3",
   "language": "python",
   "name": "python3"
  },
  "language_info": {
   "codemirror_mode": {
    "name": "ipython",
    "version": 3
   },
   "file_extension": ".py",
   "mimetype": "text/x-python",
   "name": "python",
   "nbconvert_exporter": "python",
   "pygments_lexer": "ipython3",
   "version": "3.6.1"
  }
 },
 "nbformat": 4,
 "nbformat_minor": 2
}
