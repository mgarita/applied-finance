{
 "cells": [
  {
   "cell_type": "code",
   "execution_count": null,
   "metadata": {
    "collapsed": true
   },
   "outputs": [],
   "source": [
    "# libraries\n",
    "\n",
    "import numpy as np\n",
    "import pandas as pd\n",
    "import matplotlib.pyplot as plt\n",
    "%matplotlib inline\n",
    "\n",
    "## getting data from IBM\n",
    "\n",
    "import pandas_datareader\n",
    "import datetime\n",
    "\n",
    "import pandas_datareader.data as web\n",
    "\n",
    "start = datetime.datetime(2015,1,1)\n",
    "end = datetime.datetime(2019,1,1)\n",
    "\n",
    "IBM = web.DataReader('IBM','yahoo',start,end)"
   ]
  },
  {
   "cell_type": "code",
   "execution_count": null,
   "metadata": {
    "collapsed": true
   },
   "outputs": [],
   "source": [
    "IBM_log_returns = np.log(IBM['Close']/IBM['Close'].shift(1))"
   ]
  },
  {
   "cell_type": "code",
   "execution_count": null,
   "metadata": {},
   "outputs": [],
   "source": [
    "IBM_log_returns.hist.dropna()(bins=40);\n",
    "\n",
    "\n",
    "\n",
    "_ = plt.xlabel('Log Stock Return')\n",
    "\n",
    "_ = plt.ylabel('Frequency')\n",
    "\n",
    "_ = plt.title('IBM Log Returns Frequency')\n",
    "\n",
    "_ = plt.axvline(IBM_log_returns.mean(), color='k', linestyle='dashed', linewidth=1, label = 'mean')\n",
    "\n",
    "_ = plt.axvline(IBM_log_returns.mean(), color='b', linewidth=0.5, label = 'median')\n",
    "\n",
    "plt.legend();"
   ]
  },
  {
   "cell_type": "code",
   "execution_count": 13,
   "metadata": {},
   "outputs": [
    {
     "data": {
      "text/plain": [
       "-0.65950468511581717"
      ]
     },
     "execution_count": 13,
     "metadata": {},
     "output_type": "execute_result"
    }
   ],
   "source": [
    "IBM_log_returns.skew()"
   ]
  },
  {
   "cell_type": "code",
   "execution_count": 14,
   "metadata": {},
   "outputs": [
    {
     "data": {
      "text/plain": [
       "6.2497976901878483"
      ]
     },
     "execution_count": 14,
     "metadata": {},
     "output_type": "execute_result"
    }
   ],
   "source": [
    "IBM_log_returns.kurtosis()"
   ]
  },
  {
   "cell_type": "code",
   "execution_count": null,
   "metadata": {
    "collapsed": true
   },
   "outputs": [],
   "source": []
  }
 ],
 "metadata": {
  "kernelspec": {
   "display_name": "Python 3",
   "language": "python",
   "name": "python3"
  },
  "language_info": {
   "codemirror_mode": {
    "name": "ipython",
    "version": 3
   },
   "file_extension": ".py",
   "mimetype": "text/x-python",
   "name": "python",
   "nbconvert_exporter": "python",
   "pygments_lexer": "ipython3",
   "version": "3.6.1"
  }
 },
 "nbformat": 4,
 "nbformat_minor": 2
}
