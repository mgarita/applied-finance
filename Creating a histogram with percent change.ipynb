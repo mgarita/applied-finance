{
 "cells": [
  {
   "cell_type": "code",
   "execution_count": 2,
   "metadata": {
    "collapsed": true
   },
   "outputs": [],
   "source": [
    "\n",
    "# libraries\n",
    "\n",
    "import numpy as np\n",
    "import pandas as pd\n",
    "import matplotlib.pyplot as plt\n",
    "%matplotlib inline"
   ]
  },
  {
   "cell_type": "code",
   "execution_count": 3,
   "metadata": {
    "collapsed": true
   },
   "outputs": [],
   "source": [
    "## getting data from IBM\n",
    "\n",
    "import pandas_datareader\n",
    "import datetime\n",
    "\n",
    "import pandas_datareader.data as web"
   ]
  },
  {
   "cell_type": "code",
   "execution_count": 4,
   "metadata": {
    "collapsed": true
   },
   "outputs": [],
   "source": [
    "start = datetime.datetime(2015,1,1)\n",
    "end = datetime.datetime(2019,1,1)\n",
    "\n",
    "IBM = web.DataReader('IBM','yahoo',start,end)"
   ]
  },
  {
   "cell_type": "code",
   "execution_count": 5,
   "metadata": {},
   "outputs": [
    {
     "data": {
      "text/html": [
       "<div>\n",
       "<style>\n",
       "    .dataframe thead tr:only-child th {\n",
       "        text-align: right;\n",
       "    }\n",
       "\n",
       "    .dataframe thead th {\n",
       "        text-align: left;\n",
       "    }\n",
       "\n",
       "    .dataframe tbody tr th {\n",
       "        vertical-align: top;\n",
       "    }\n",
       "</style>\n",
       "<table border=\"1\" class=\"dataframe\">\n",
       "  <thead>\n",
       "    <tr style=\"text-align: right;\">\n",
       "      <th></th>\n",
       "      <th>Open</th>\n",
       "      <th>High</th>\n",
       "      <th>Low</th>\n",
       "      <th>Close</th>\n",
       "      <th>Adj Close</th>\n",
       "      <th>Volume</th>\n",
       "    </tr>\n",
       "    <tr>\n",
       "      <th>Date</th>\n",
       "      <th></th>\n",
       "      <th></th>\n",
       "      <th></th>\n",
       "      <th></th>\n",
       "      <th></th>\n",
       "      <th></th>\n",
       "    </tr>\n",
       "  </thead>\n",
       "  <tbody>\n",
       "    <tr>\n",
       "      <th>2015-01-02</th>\n",
       "      <td>161.309998</td>\n",
       "      <td>163.309998</td>\n",
       "      <td>161.000000</td>\n",
       "      <td>162.059998</td>\n",
       "      <td>136.854614</td>\n",
       "      <td>5525500</td>\n",
       "    </tr>\n",
       "    <tr>\n",
       "      <th>2015-01-05</th>\n",
       "      <td>161.270004</td>\n",
       "      <td>161.270004</td>\n",
       "      <td>159.190002</td>\n",
       "      <td>159.509995</td>\n",
       "      <td>134.701157</td>\n",
       "      <td>4880400</td>\n",
       "    </tr>\n",
       "    <tr>\n",
       "      <th>2015-01-06</th>\n",
       "      <td>159.669998</td>\n",
       "      <td>159.960007</td>\n",
       "      <td>155.169998</td>\n",
       "      <td>156.070007</td>\n",
       "      <td>131.796234</td>\n",
       "      <td>6146700</td>\n",
       "    </tr>\n",
       "    <tr>\n",
       "      <th>2015-01-07</th>\n",
       "      <td>157.199997</td>\n",
       "      <td>157.199997</td>\n",
       "      <td>154.029999</td>\n",
       "      <td>155.050003</td>\n",
       "      <td>130.934891</td>\n",
       "      <td>4701800</td>\n",
       "    </tr>\n",
       "    <tr>\n",
       "      <th>2015-01-08</th>\n",
       "      <td>156.240005</td>\n",
       "      <td>159.039993</td>\n",
       "      <td>155.550003</td>\n",
       "      <td>158.419998</td>\n",
       "      <td>133.780716</td>\n",
       "      <td>4236800</td>\n",
       "    </tr>\n",
       "  </tbody>\n",
       "</table>\n",
       "</div>"
      ],
      "text/plain": [
       "                  Open        High         Low       Close   Adj Close  \\\n",
       "Date                                                                     \n",
       "2015-01-02  161.309998  163.309998  161.000000  162.059998  136.854614   \n",
       "2015-01-05  161.270004  161.270004  159.190002  159.509995  134.701157   \n",
       "2015-01-06  159.669998  159.960007  155.169998  156.070007  131.796234   \n",
       "2015-01-07  157.199997  157.199997  154.029999  155.050003  130.934891   \n",
       "2015-01-08  156.240005  159.039993  155.550003  158.419998  133.780716   \n",
       "\n",
       "             Volume  \n",
       "Date                 \n",
       "2015-01-02  5525500  \n",
       "2015-01-05  4880400  \n",
       "2015-01-06  6146700  \n",
       "2015-01-07  4701800  \n",
       "2015-01-08  4236800  "
      ]
     },
     "execution_count": 5,
     "metadata": {},
     "output_type": "execute_result"
    }
   ],
   "source": [
    "IBM.head()"
   ]
  },
  {
   "cell_type": "code",
   "execution_count": 11,
   "metadata": {},
   "outputs": [],
   "source": [
    "IBM_returns = IBM['Close'].pct_change(1)"
   ]
  },
  {
   "cell_type": "code",
   "execution_count": 16,
   "metadata": {},
   "outputs": [
    {
     "data": {
      "text/plain": [
       "count    1006.000000\n",
       "mean       -0.000254\n",
       "std         0.013023\n",
       "min        -0.076282\n",
       "25%        -0.006450\n",
       "50%         0.000220\n",
       "75%         0.006213\n",
       "max         0.088645\n",
       "Name: Close, dtype: float64"
      ]
     },
     "execution_count": 16,
     "metadata": {},
     "output_type": "execute_result"
    }
   ],
   "source": [
    "IBM_returns.describe()"
   ]
  },
  {
   "cell_type": "markdown",
   "metadata": {},
   "source": [
    "# Calculating Sturges Rule"
   ]
  },
  {
   "cell_type": "code",
   "execution_count": 26,
   "metadata": {},
   "outputs": [
    {
     "data": {
      "text/plain": [
       "10.975231011547681"
      ]
     },
     "execution_count": 26,
     "metadata": {},
     "output_type": "execute_result"
    }
   ],
   "source": [
    "bins = 1+3.3222*np.log10(1006)\n",
    "bins"
   ]
  },
  {
   "cell_type": "markdown",
   "metadata": {},
   "source": [
    "# Histogram"
   ]
  },
  {
   "cell_type": "code",
   "execution_count": 22,
   "metadata": {},
   "outputs": [
    {
     "data": {
      "image/png": "[encoded data removed]",
      "text/plain": [
       "<matplotlib.figure.Figure at 0x11cab4518>"
      ]
     },
     "metadata": {},
     "output_type": "display_data"
    }
   ],
   "source": [
    "IBM_returns.hist(bins=11);\n",
    "\n",
    "\n",
    "_ = plt.xlabel('Stock Return')\n",
    "\n",
    "_ = plt.ylabel('Frequency')\n",
    "\n",
    "_ = plt.title('IBM Returns Frequency')"
   ]
  },
  {
   "cell_type": "code",
   "execution_count": 20,
   "metadata": {},
   "outputs": [
    {
     "data": {
      "image/png": "[encoded data removed]",
      "text/plain": [
       "<matplotlib.figure.Figure at 0x11c66bc88>"
      ]
     },
     "metadata": {},
     "output_type": "display_data"
    }
   ],
   "source": [
    "IBM_returns.hist(bins=40);\n",
    "\n",
    "_ = plt.xlabel('Stock Return')\n",
    "\n",
    "_ = plt.ylabel('Frequency')\n",
    "\n",
    "_ = plt.title('IBM Returns Frequency')"
   ]
  },
  {
   "cell_type": "code",
   "execution_count": null,
   "metadata": {
    "collapsed": true
   },
   "outputs": [],
   "source": []
  }
 ],
 "metadata": {
  "kernelspec": {
   "display_name": "Python 3",
   "language": "python",
   "name": "python3"
  },
  "language_info": {
   "codemirror_mode": {
    "name": "ipython",
    "version": 3
   },
   "file_extension": ".py",
   "mimetype": "text/x-python",
   "name": "python",
   "nbconvert_exporter": "python",
   "pygments_lexer": "ipython3",
   "version": "3.6.1"
  }
 },
 "nbformat": 4,
 "nbformat_minor": 2
}
