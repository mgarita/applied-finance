{
 "cells": [
  {
   "cell_type": "code",
   "execution_count": 1,
   "metadata": {
    "collapsed": true
   },
   "outputs": [],
   "source": [
    "m = [1,2,3,4,5,6]"
   ]
  },
  {
   "cell_type": "code",
   "execution_count": 3,
   "metadata": {},
   "outputs": [
    {
     "name": "stdout",
     "output_type": "stream",
     "text": [
      "1\n",
      "2\n",
      "3\n",
      "4\n",
      "5\n",
      "6\n"
     ]
    }
   ],
   "source": [
    "for x in m:\n",
    "    print (x)"
   ]
  },
  {
   "cell_type": "code",
   "execution_count": 4,
   "metadata": {},
   "outputs": [
    {
     "name": "stdout",
     "output_type": "stream",
     "text": [
      "1\n",
      "2\n",
      "3\n",
      "4\n",
      "5\n",
      "6\n"
     ]
    }
   ],
   "source": [
    "for example in m:\n",
    "    print (example)"
   ]
  },
  {
   "cell_type": "code",
   "execution_count": 10,
   "metadata": {
    "collapsed": true
   },
   "outputs": [],
   "source": [
    "m = [1,2,1,2,1]"
   ]
  },
  {
   "cell_type": "code",
   "execution_count": 9,
   "metadata": {},
   "outputs": [
    {
     "name": "stdout",
     "output_type": "stream",
     "text": [
      "I am a result\n",
      "I am a result\n",
      "I am a result\n",
      "I am a result\n",
      "I am a result\n"
     ]
    }
   ],
   "source": [
    "for x in m:\n",
    "    print ('I am a result')"
   ]
  },
  {
   "cell_type": "code",
   "execution_count": 16,
   "metadata": {},
   "outputs": [
    {
     "name": "stdout",
     "output_type": "stream",
     "text": [
      "2\n",
      "4\n",
      "6\n"
     ]
    }
   ],
   "source": [
    "m = [1,2,3,4,5,6]\n",
    "\n",
    "for number in m:\n",
    "    if number % 2 == 0:\n",
    "        print (number)\n"
   ]
  },
  {
   "cell_type": "code",
   "execution_count": 17,
   "metadata": {},
   "outputs": [
    {
     "name": "stdout",
     "output_type": "stream",
     "text": [
      "the number es even\n",
      "the number es even\n",
      "the number es even\n",
      "the number is uneven\n"
     ]
    }
   ],
   "source": [
    "for number in m:\n",
    "    if number % 2 == 0:\n",
    "        print (\"the number es even\")\n",
    "else:\n",
    "    print (\"the number is uneven\")\n"
   ]
  },
  {
   "cell_type": "code",
   "execution_count": 21,
   "metadata": {},
   "outputs": [
    {
     "name": "stdout",
     "output_type": "stream",
     "text": [
      "The number is even\n",
      "The number is even\n",
      "The number is even\n",
      "6\n"
     ]
    }
   ],
   "source": [
    "for number in m:\n",
    "    if number % 2 == 0:\n",
    "        print (\"The number is even\")\n",
    "else:\n",
    "    print (number)\n"
   ]
  },
  {
   "cell_type": "code",
   "execution_count": 22,
   "metadata": {
    "collapsed": true
   },
   "outputs": [],
   "source": [
    "m = [1,2,3,4,5,7,8,9,10]"
   ]
  },
  {
   "cell_type": "code",
   "execution_count": 23,
   "metadata": {
    "collapsed": true
   },
   "outputs": [],
   "source": [
    "add = 0"
   ]
  },
  {
   "cell_type": "code",
   "execution_count": 24,
   "metadata": {},
   "outputs": [
    {
     "name": "stdout",
     "output_type": "stream",
     "text": [
      "49\n"
     ]
    }
   ],
   "source": [
    "for number in m:\n",
    "    add = add + number\n",
    "print (add)\n",
    "   "
   ]
  },
  {
   "cell_type": "code",
   "execution_count": 29,
   "metadata": {},
   "outputs": [
    {
     "name": "stdout",
     "output_type": "stream",
     "text": [
      "L\n",
      "e\n",
      "t\n",
      "t\n",
      "e\n",
      "r\n"
     ]
    }
   ],
   "source": [
    "a = \"Letter\"\n",
    "\n",
    "for letter in a:\n",
    "    print (letter)\n"
   ]
  },
  {
   "cell_type": "code",
   "execution_count": 31,
   "metadata": {},
   "outputs": [
    {
     "name": "stdout",
     "output_type": "stream",
     "text": [
      "k1\n",
      "k2\n",
      "k3\n"
     ]
    }
   ],
   "source": [
    "dictionary = {'k1':1, 'k2':2, 'k3':3}\n",
    "\n",
    "for element in dictionary:\n",
    "    print (element)\n"
   ]
  },
  {
   "cell_type": "code",
   "execution_count": 32,
   "metadata": {},
   "outputs": [
    {
     "name": "stdout",
     "output_type": "stream",
     "text": [
      "k1\n",
      "1\n",
      "k2\n",
      "2\n",
      "k3\n",
      "3\n"
     ]
    }
   ],
   "source": [
    "for k,v in dictionary.items():\n",
    "    print (k)\n",
    "    print (v)\n"
   ]
  },
  {
   "cell_type": "code",
   "execution_count": 34,
   "metadata": {},
   "outputs": [
    {
     "name": "stdout",
     "output_type": "stream",
     "text": [
      "a is 0\n",
      "a is 1\n",
      "a is 2\n",
      "a is 3\n",
      "a is 4\n",
      "a is 5\n",
      "a is 6\n",
      "a is 7\n",
      "a is 8\n",
      "a is 9\n",
      "end\n"
     ]
    }
   ],
   "source": [
    "# While loop\n",
    "\n",
    "a = 0\n",
    "\n",
    "while a < 10:\n",
    "    print (\"a is\", a)\n",
    "    a += 1\n",
    "\n",
    "else:\n",
    "    print (\"end\")\n"
   ]
  },
  {
   "cell_type": "code",
   "execution_count": null,
   "metadata": {
    "collapsed": true
   },
   "outputs": [],
   "source": [
    "a = 0\n",
    "\n",
    "while a < 5:\n",
    "    print (\"a is\", a)\n",
    "    print (\"a is less than 5\")\n",
    "    a += 1\n",
    "\n",
    "if a == 4:\n",
    "    print (\"a is equal to 4\")\n",
    "else:\n",
    "    print (\"Continue\")\n",
    "continue\n"
   ]
  },
  {
   "cell_type": "code",
   "execution_count": null,
   "metadata": {
    "collapsed": true
   },
   "outputs": [],
   "source": [
    "a = 0\n",
    "\n",
    "while a < 5:\n",
    "print (\"a es\", a)\n",
    "print (\"a es menor que 5\")\n",
    "a += 1\n",
    "\n",
    "if a == 2:\n",
    "print (\"a es igual a 2\")\n",
    "break\n",
    "else:\n",
    "print (\"Seguimos\")\n",
    "continue\n"
   ]
  },
  {
   "cell_type": "code",
   "execution_count": 6,
   "metadata": {},
   "outputs": [
    {
     "name": "stdout",
     "output_type": "stream",
     "text": [
      "a is 0\n",
      "a is less than 5\n",
      "a is 1\n",
      "a is less than 5\n",
      "a is 2\n",
      "a is less than 5\n",
      "a is 3\n",
      "a is less than 5\n",
      "a is 4\n",
      "a is less than 5\n"
     ]
    },
    {
     "ename": "SyntaxError",
     "evalue": "'break' outside loop (<ipython-input-6-0111785414ae>, line 10)",
     "output_type": "error",
     "traceback": [
      "\u001b[0;36m  File \u001b[0;32m\"<ipython-input-6-0111785414ae>\"\u001b[0;36m, line \u001b[0;32m10\u001b[0m\n\u001b[0;31m    break\u001b[0m\n\u001b[0m    ^\u001b[0m\n\u001b[0;31mSyntaxError\u001b[0m\u001b[0;31m:\u001b[0m 'break' outside loop\n"
     ]
    }
   ],
   "source": [
    "a = 0\n",
    "\n",
    "while a < 5:\n",
    "    print (\"a is\", a)\n",
    "    print (\"a is less than 5\")\n",
    "    a += 1\n",
    "\n",
    "if a == 2:\n",
    "    print (\"a is equal to 2\")\n",
    "    break\n",
    "else:\n",
    "        print (\"Continue calculating\")\n",
    "        continue\n"
   ]
  },
  {
   "cell_type": "code",
   "execution_count": null,
   "metadata": {
    "collapsed": true
   },
   "outputs": [],
   "source": []
  }
 ],
 "metadata": {
  "kernelspec": {
   "display_name": "Python 3",
   "language": "python",
   "name": "python3"
  },
  "language_info": {
   "codemirror_mode": {
    "name": "ipython",
    "version": 3
   },
   "file_extension": ".py",
   "mimetype": "text/x-python",
   "name": "python",
   "nbconvert_exporter": "python",
   "pygments_lexer": "ipython3",
   "version": "3.6.1"
  }
 },
 "nbformat": 4,
 "nbformat_minor": 2
}
