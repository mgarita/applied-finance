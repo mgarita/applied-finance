{
 "cells": [
  {
   "cell_type": "code",
   "execution_count": 3,
   "metadata": {},
   "outputs": [],
   "source": [
    "#installing packages \n",
    "\n",
    "import numpy as np\n",
    "import pandas as pd\n",
    "from pandas_datareader import data as web\n",
    "import pandas_datareader\n",
    "import datetime\n",
    "import matplotlib.pyplot as plt\n",
    "from scipy import stats\n",
    "%matplotlib inline"
   ]
  },
  {
   "cell_type": "code",
   "execution_count": 6,
   "metadata": {},
   "outputs": [],
   "source": [
    "start = datetime.datetime(2014, 1, 2)\n",
    "end = datetime.datetime(2019, 1, 1)\n",
    "\n",
    "tickers = ['NFLX', 'DIS', 'TSLA', 'AMZN']\n",
    "stocks = pd.DataFrame()\n",
    "for x in tickers:\n",
    "    stocks[x] = web.DataReader(x, 'yahoo', start, end)['Close']\n"
   ]
  },
  {
   "cell_type": "code",
   "execution_count": 7,
   "metadata": {
    "collapsed": true
   },
   "outputs": [],
   "source": [
    "stocks_return = (stocks/stocks.shift(1))"
   ]
  },
  {
   "cell_type": "code",
   "execution_count": 8,
   "metadata": {
    "collapsed": true
   },
   "outputs": [],
   "source": [
    "portfolio_weights = np.array([0.0538, 0.1057, 0.6898, 0.1506])"
   ]
  },
  {
   "cell_type": "code",
   "execution_count": 9,
   "metadata": {},
   "outputs": [
    {
     "data": {
      "text/html": [
       "<div>\n",
       "<style>\n",
       "    .dataframe thead tr:only-child th {\n",
       "        text-align: right;\n",
       "    }\n",
       "\n",
       "    .dataframe thead th {\n",
       "        text-align: left;\n",
       "    }\n",
       "\n",
       "    .dataframe tbody tr th {\n",
       "        vertical-align: top;\n",
       "    }\n",
       "</style>\n",
       "<table border=\"1\" class=\"dataframe\">\n",
       "  <thead>\n",
       "    <tr style=\"text-align: right;\">\n",
       "      <th></th>\n",
       "      <th>NFLX</th>\n",
       "      <th>DIS</th>\n",
       "      <th>TSLA</th>\n",
       "      <th>AMZN</th>\n",
       "    </tr>\n",
       "    <tr>\n",
       "      <th>Date</th>\n",
       "      <th></th>\n",
       "      <th></th>\n",
       "      <th></th>\n",
       "      <th></th>\n",
       "    </tr>\n",
       "  </thead>\n",
       "  <tbody>\n",
       "    <tr>\n",
       "      <th>2014-01-03</th>\n",
       "      <td>0.053842</td>\n",
       "      <td>0.105478</td>\n",
       "      <td>0.687318</td>\n",
       "      <td>0.150021</td>\n",
       "    </tr>\n",
       "    <tr>\n",
       "      <th>2014-01-06</th>\n",
       "      <td>0.053277</td>\n",
       "      <td>0.105297</td>\n",
       "      <td>0.677993</td>\n",
       "      <td>0.149533</td>\n",
       "    </tr>\n",
       "    <tr>\n",
       "      <th>2014-01-07</th>\n",
       "      <td>0.050797</td>\n",
       "      <td>0.106425</td>\n",
       "      <td>0.700874</td>\n",
       "      <td>0.152283</td>\n",
       "    </tr>\n",
       "    <tr>\n",
       "      <th>2014-01-08</th>\n",
       "      <td>0.054036</td>\n",
       "      <td>0.104149</td>\n",
       "      <td>0.698667</td>\n",
       "      <td>0.152072</td>\n",
       "    </tr>\n",
       "  </tbody>\n",
       "</table>\n",
       "</div>"
      ],
      "text/plain": [
       "                NFLX       DIS      TSLA      AMZN\n",
       "Date                                              \n",
       "2014-01-03  0.053842  0.105478  0.687318  0.150021\n",
       "2014-01-06  0.053277  0.105297  0.677993  0.149533\n",
       "2014-01-07  0.050797  0.106425  0.700874  0.152283\n",
       "2014-01-08  0.054036  0.104149  0.698667  0.152072"
      ]
     },
     "execution_count": 9,
     "metadata": {},
     "output_type": "execute_result"
    }
   ],
   "source": [
    "weighted_returns_portfolio = stocks_return.mul(portfolio_weights, axis = 1)\n",
    "\n",
    "weighted_returns_portfolio.head().dropna()"
   ]
  },
  {
   "cell_type": "code",
   "execution_count": 10,
   "metadata": {},
   "outputs": [
    {
     "data": {
      "text/html": [
       "<div>\n",
       "<style>\n",
       "    .dataframe thead tr:only-child th {\n",
       "        text-align: right;\n",
       "    }\n",
       "\n",
       "    .dataframe thead th {\n",
       "        text-align: left;\n",
       "    }\n",
       "\n",
       "    .dataframe tbody tr th {\n",
       "        vertical-align: top;\n",
       "    }\n",
       "</style>\n",
       "<table border=\"1\" class=\"dataframe\">\n",
       "  <thead>\n",
       "    <tr style=\"text-align: right;\">\n",
       "      <th></th>\n",
       "      <th>NFLX</th>\n",
       "      <th>DIS</th>\n",
       "      <th>TSLA</th>\n",
       "      <th>AMZN</th>\n",
       "    </tr>\n",
       "  </thead>\n",
       "  <tbody>\n",
       "    <tr>\n",
       "      <th>NFLX</th>\n",
       "      <td>0.000735</td>\n",
       "      <td>0.000089</td>\n",
       "      <td>0.000247</td>\n",
       "      <td>0.000236</td>\n",
       "    </tr>\n",
       "    <tr>\n",
       "      <th>DIS</th>\n",
       "      <td>0.000089</td>\n",
       "      <td>0.000142</td>\n",
       "      <td>0.000090</td>\n",
       "      <td>0.000080</td>\n",
       "    </tr>\n",
       "    <tr>\n",
       "      <th>TSLA</th>\n",
       "      <td>0.000247</td>\n",
       "      <td>0.000090</td>\n",
       "      <td>0.000797</td>\n",
       "      <td>0.000186</td>\n",
       "    </tr>\n",
       "    <tr>\n",
       "      <th>AMZN</th>\n",
       "      <td>0.000236</td>\n",
       "      <td>0.000080</td>\n",
       "      <td>0.000186</td>\n",
       "      <td>0.000381</td>\n",
       "    </tr>\n",
       "  </tbody>\n",
       "</table>\n",
       "</div>"
      ],
      "text/plain": [
       "          NFLX       DIS      TSLA      AMZN\n",
       "NFLX  0.000735  0.000089  0.000247  0.000236\n",
       "DIS   0.000089  0.000142  0.000090  0.000080\n",
       "TSLA  0.000247  0.000090  0.000797  0.000186\n",
       "AMZN  0.000236  0.000080  0.000186  0.000381"
      ]
     },
     "execution_count": 10,
     "metadata": {},
     "output_type": "execute_result"
    }
   ],
   "source": [
    "# covariance of the stocks returns\n",
    "\n",
    "stocks_covariance = stocks_return.cov()\n",
    "\n",
    "stocks_covariance"
   ]
  },
  {
   "cell_type": "code",
   "execution_count": 11,
   "metadata": {},
   "outputs": [
    {
     "data": {
      "text/html": [
       "<div>\n",
       "<style>\n",
       "    .dataframe thead tr:only-child th {\n",
       "        text-align: right;\n",
       "    }\n",
       "\n",
       "    .dataframe thead th {\n",
       "        text-align: left;\n",
       "    }\n",
       "\n",
       "    .dataframe tbody tr th {\n",
       "        vertical-align: top;\n",
       "    }\n",
       "</style>\n",
       "<table border=\"1\" class=\"dataframe\">\n",
       "  <thead>\n",
       "    <tr style=\"text-align: right;\">\n",
       "      <th></th>\n",
       "      <th>NFLX</th>\n",
       "      <th>DIS</th>\n",
       "      <th>TSLA</th>\n",
       "      <th>AMZN</th>\n",
       "    </tr>\n",
       "  </thead>\n",
       "  <tbody>\n",
       "    <tr>\n",
       "      <th>NFLX</th>\n",
       "      <td>0.185274</td>\n",
       "      <td>0.022497</td>\n",
       "      <td>0.062368</td>\n",
       "      <td>0.059461</td>\n",
       "    </tr>\n",
       "    <tr>\n",
       "      <th>DIS</th>\n",
       "      <td>0.022497</td>\n",
       "      <td>0.035697</td>\n",
       "      <td>0.022763</td>\n",
       "      <td>0.020037</td>\n",
       "    </tr>\n",
       "    <tr>\n",
       "      <th>TSLA</th>\n",
       "      <td>0.062368</td>\n",
       "      <td>0.022763</td>\n",
       "      <td>0.200928</td>\n",
       "      <td>0.046951</td>\n",
       "    </tr>\n",
       "    <tr>\n",
       "      <th>AMZN</th>\n",
       "      <td>0.059461</td>\n",
       "      <td>0.020037</td>\n",
       "      <td>0.046951</td>\n",
       "      <td>0.096091</td>\n",
       "    </tr>\n",
       "  </tbody>\n",
       "</table>\n",
       "</div>"
      ],
      "text/plain": [
       "          NFLX       DIS      TSLA      AMZN\n",
       "NFLX  0.185274  0.022497  0.062368  0.059461\n",
       "DIS   0.022497  0.035697  0.022763  0.020037\n",
       "TSLA  0.062368  0.022763  0.200928  0.046951\n",
       "AMZN  0.059461  0.020037  0.046951  0.096091"
      ]
     },
     "execution_count": 11,
     "metadata": {},
     "output_type": "execute_result"
    }
   ],
   "source": [
    "annualized_covariance = stocks_covariance * 252\n",
    "annualized_covariance"
   ]
  },
  {
   "cell_type": "code",
   "execution_count": 12,
   "metadata": {},
   "outputs": [
    {
     "data": {
      "text/plain": [
       "0.34392103687572534"
      ]
     },
     "execution_count": 12,
     "metadata": {},
     "output_type": "execute_result"
    }
   ],
   "source": [
    "portfolio_sd = np.sqrt(np.dot(portfolio_weights.T, np.dot(annualized_covariance, portfolio_weights)))\n",
    "portfolio_sd"
   ]
  },
  {
   "cell_type": "code",
   "execution_count": null,
   "metadata": {
    "collapsed": true
   },
   "outputs": [],
   "source": []
  }
 ],
 "metadata": {
  "kernelspec": {
   "display_name": "Python 3",
   "language": "python",
   "name": "python3"
  },
  "language_info": {
   "codemirror_mode": {
    "name": "ipython",
    "version": 3
   },
   "file_extension": ".py",
   "mimetype": "text/x-python",
   "name": "python",
   "nbconvert_exporter": "python",
   "pygments_lexer": "ipython3",
   "version": "3.6.1"
  }
 },
 "nbformat": 4,
 "nbformat_minor": 2
}
