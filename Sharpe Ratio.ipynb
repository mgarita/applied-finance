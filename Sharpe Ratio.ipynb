{
 "cells": [
  {
   "cell_type": "code",
   "execution_count": 115,
   "metadata": {
    "collapsed": true
   },
   "outputs": [],
   "source": [
    "#installing packages \n",
    "\n",
    "import numpy as np\n",
    "import pandas as pd\n",
    "from pandas_datareader import data as web\n",
    "import pandas_datareader\n",
    "import datetime\n",
    "import matplotlib.pyplot as plt\n",
    "from scipy import stats\n",
    "%matplotlib inline"
   ]
  },
  {
   "cell_type": "code",
   "execution_count": 123,
   "metadata": {},
   "outputs": [],
   "source": [
    "start = datetime.datetime(2018, 1, 2)\n",
    "end = datetime.datetime(2019, 4, 1)\n",
    "\n",
    "tickers = ['F','FCAU', 'TM',]\n",
    "stocks = pd.DataFrame()\n",
    "for x in tickers:\n",
    "    stocks[x] = web.DataReader(x, 'yahoo', start, end)['Close']"
   ]
  },
  {
   "cell_type": "code",
   "execution_count": 124,
   "metadata": {},
   "outputs": [
    {
     "data": {
      "text/html": [
       "<div>\n",
       "<style>\n",
       "    .dataframe thead tr:only-child th {\n",
       "        text-align: right;\n",
       "    }\n",
       "\n",
       "    .dataframe thead th {\n",
       "        text-align: left;\n",
       "    }\n",
       "\n",
       "    .dataframe tbody tr th {\n",
       "        vertical-align: top;\n",
       "    }\n",
       "</style>\n",
       "<table border=\"1\" class=\"dataframe\">\n",
       "  <thead>\n",
       "    <tr style=\"text-align: right;\">\n",
       "      <th></th>\n",
       "      <th>F</th>\n",
       "      <th>FCAU</th>\n",
       "      <th>TM</th>\n",
       "    </tr>\n",
       "  </thead>\n",
       "  <tbody>\n",
       "    <tr>\n",
       "      <th>F</th>\n",
       "      <td>1.000000</td>\n",
       "      <td>0.873512</td>\n",
       "      <td>0.837771</td>\n",
       "    </tr>\n",
       "    <tr>\n",
       "      <th>FCAU</th>\n",
       "      <td>0.873512</td>\n",
       "      <td>1.000000</td>\n",
       "      <td>0.852925</td>\n",
       "    </tr>\n",
       "    <tr>\n",
       "      <th>TM</th>\n",
       "      <td>0.837771</td>\n",
       "      <td>0.852925</td>\n",
       "      <td>1.000000</td>\n",
       "    </tr>\n",
       "  </tbody>\n",
       "</table>\n",
       "</div>"
      ],
      "text/plain": [
       "             F      FCAU        TM\n",
       "F     1.000000  0.873512  0.837771\n",
       "FCAU  0.873512  1.000000  0.852925\n",
       "TM    0.837771  0.852925  1.000000"
      ]
     },
     "execution_count": 124,
     "metadata": {},
     "output_type": "execute_result"
    }
   ],
   "source": [
    "stocks.corr()"
   ]
  },
  {
   "cell_type": "code",
   "execution_count": 125,
   "metadata": {
    "collapsed": true
   },
   "outputs": [],
   "source": [
    "# Creating the portfolio weights (3 weights)\n",
    "\n",
    "portfolio_weights = np.array([0.33, 0.33, 0.34])"
   ]
  },
  {
   "cell_type": "code",
   "execution_count": 126,
   "metadata": {},
   "outputs": [
    {
     "data": {
      "text/html": [
       "<div>\n",
       "<style>\n",
       "    .dataframe thead tr:only-child th {\n",
       "        text-align: right;\n",
       "    }\n",
       "\n",
       "    .dataframe thead th {\n",
       "        text-align: left;\n",
       "    }\n",
       "\n",
       "    .dataframe tbody tr th {\n",
       "        vertical-align: top;\n",
       "    }\n",
       "</style>\n",
       "<table border=\"1\" class=\"dataframe\">\n",
       "  <thead>\n",
       "    <tr style=\"text-align: right;\">\n",
       "      <th></th>\n",
       "      <th>F</th>\n",
       "      <th>FCAU</th>\n",
       "      <th>TM</th>\n",
       "    </tr>\n",
       "    <tr>\n",
       "      <th>Date</th>\n",
       "      <th></th>\n",
       "      <th></th>\n",
       "      <th></th>\n",
       "    </tr>\n",
       "  </thead>\n",
       "  <tbody>\n",
       "    <tr>\n",
       "      <th>2019-03-27</th>\n",
       "      <td>-0.015982</td>\n",
       "      <td>0.018194</td>\n",
       "      <td>-0.006077</td>\n",
       "    </tr>\n",
       "    <tr>\n",
       "      <th>2019-03-28</th>\n",
       "      <td>0.017401</td>\n",
       "      <td>-0.020516</td>\n",
       "      <td>-0.016194</td>\n",
       "    </tr>\n",
       "    <tr>\n",
       "      <th>2019-03-29</th>\n",
       "      <td>0.001140</td>\n",
       "      <td>0.003378</td>\n",
       "      <td>-0.008818</td>\n",
       "    </tr>\n",
       "    <tr>\n",
       "      <th>2019-04-01</th>\n",
       "      <td>0.022779</td>\n",
       "      <td>0.026263</td>\n",
       "      <td>0.015760</td>\n",
       "    </tr>\n",
       "    <tr>\n",
       "      <th>2019-04-02</th>\n",
       "      <td>0.003341</td>\n",
       "      <td>0.011811</td>\n",
       "      <td>0.006423</td>\n",
       "    </tr>\n",
       "  </tbody>\n",
       "</table>\n",
       "</div>"
      ],
      "text/plain": [
       "                   F      FCAU        TM\n",
       "Date                                    \n",
       "2019-03-27 -0.015982  0.018194 -0.006077\n",
       "2019-03-28  0.017401 -0.020516 -0.016194\n",
       "2019-03-29  0.001140  0.003378 -0.008818\n",
       "2019-04-01  0.022779  0.026263  0.015760\n",
       "2019-04-02  0.003341  0.011811  0.006423"
      ]
     },
     "execution_count": 126,
     "metadata": {},
     "output_type": "execute_result"
    }
   ],
   "source": [
    "#returns \n",
    "\n",
    "stocks_return = stocks.pct_change(1).dropna()\n",
    "stocks_return.tail()"
   ]
  },
  {
   "cell_type": "code",
   "execution_count": 127,
   "metadata": {},
   "outputs": [
    {
     "data": {
      "text/html": [
       "<div>\n",
       "<style>\n",
       "    .dataframe thead tr:only-child th {\n",
       "        text-align: right;\n",
       "    }\n",
       "\n",
       "    .dataframe thead th {\n",
       "        text-align: left;\n",
       "    }\n",
       "\n",
       "    .dataframe tbody tr th {\n",
       "        vertical-align: top;\n",
       "    }\n",
       "</style>\n",
       "<table border=\"1\" class=\"dataframe\">\n",
       "  <thead>\n",
       "    <tr style=\"text-align: right;\">\n",
       "      <th></th>\n",
       "      <th>F</th>\n",
       "      <th>FCAU</th>\n",
       "      <th>TM</th>\n",
       "    </tr>\n",
       "    <tr>\n",
       "      <th>Date</th>\n",
       "      <th></th>\n",
       "      <th></th>\n",
       "      <th></th>\n",
       "    </tr>\n",
       "  </thead>\n",
       "  <tbody>\n",
       "    <tr>\n",
       "      <th>2018-01-03</th>\n",
       "      <td>0.002607</td>\n",
       "      <td>0.013608</td>\n",
       "      <td>0.004662</td>\n",
       "    </tr>\n",
       "    <tr>\n",
       "      <th>2018-01-04</th>\n",
       "      <td>0.005690</td>\n",
       "      <td>0.025107</td>\n",
       "      <td>0.005304</td>\n",
       "    </tr>\n",
       "    <tr>\n",
       "      <th>2018-01-05</th>\n",
       "      <td>0.005593</td>\n",
       "      <td>0.017898</td>\n",
       "      <td>0.004373</td>\n",
       "    </tr>\n",
       "    <tr>\n",
       "      <th>2018-01-08</th>\n",
       "      <td>-0.001250</td>\n",
       "      <td>-0.002880</td>\n",
       "      <td>0.002311</td>\n",
       "    </tr>\n",
       "    <tr>\n",
       "      <th>2018-01-09</th>\n",
       "      <td>-0.001757</td>\n",
       "      <td>0.005964</td>\n",
       "      <td>-0.002649</td>\n",
       "    </tr>\n",
       "  </tbody>\n",
       "</table>\n",
       "</div>"
      ],
      "text/plain": [
       "                   F      FCAU        TM\n",
       "Date                                    \n",
       "2018-01-03  0.002607  0.013608  0.004662\n",
       "2018-01-04  0.005690  0.025107  0.005304\n",
       "2018-01-05  0.005593  0.017898  0.004373\n",
       "2018-01-08 -0.001250 -0.002880  0.002311\n",
       "2018-01-09 -0.001757  0.005964 -0.002649"
      ]
     },
     "execution_count": 127,
     "metadata": {},
     "output_type": "execute_result"
    }
   ],
   "source": [
    "# returns with weights \n",
    "\n",
    "weighted_returns_portfolio = stocks_return.mul(portfolio_weights, axis = 1)\n",
    "\n",
    "weighted_returns_portfolio.head()"
   ]
  },
  {
   "cell_type": "code",
   "execution_count": 128,
   "metadata": {},
   "outputs": [
    {
     "data": {
      "text/html": [
       "<div>\n",
       "<style>\n",
       "    .dataframe thead tr:only-child th {\n",
       "        text-align: right;\n",
       "    }\n",
       "\n",
       "    .dataframe thead th {\n",
       "        text-align: left;\n",
       "    }\n",
       "\n",
       "    .dataframe tbody tr th {\n",
       "        vertical-align: top;\n",
       "    }\n",
       "</style>\n",
       "<table border=\"1\" class=\"dataframe\">\n",
       "  <thead>\n",
       "    <tr style=\"text-align: right;\">\n",
       "      <th></th>\n",
       "      <th>F</th>\n",
       "      <th>FCAU</th>\n",
       "      <th>TM</th>\n",
       "      <th>Portfolio</th>\n",
       "    </tr>\n",
       "    <tr>\n",
       "      <th>Date</th>\n",
       "      <th></th>\n",
       "      <th></th>\n",
       "      <th></th>\n",
       "      <th></th>\n",
       "    </tr>\n",
       "  </thead>\n",
       "  <tbody>\n",
       "    <tr>\n",
       "      <th>2019-03-27</th>\n",
       "      <td>-0.015982</td>\n",
       "      <td>0.018194</td>\n",
       "      <td>-0.006077</td>\n",
       "      <td>-0.001336</td>\n",
       "    </tr>\n",
       "    <tr>\n",
       "      <th>2019-03-28</th>\n",
       "      <td>0.017401</td>\n",
       "      <td>-0.020516</td>\n",
       "      <td>-0.016194</td>\n",
       "      <td>-0.006534</td>\n",
       "    </tr>\n",
       "    <tr>\n",
       "      <th>2019-03-29</th>\n",
       "      <td>0.001140</td>\n",
       "      <td>0.003378</td>\n",
       "      <td>-0.008818</td>\n",
       "      <td>-0.001507</td>\n",
       "    </tr>\n",
       "    <tr>\n",
       "      <th>2019-04-01</th>\n",
       "      <td>0.022779</td>\n",
       "      <td>0.026263</td>\n",
       "      <td>0.015760</td>\n",
       "      <td>0.021542</td>\n",
       "    </tr>\n",
       "    <tr>\n",
       "      <th>2019-04-02</th>\n",
       "      <td>0.003341</td>\n",
       "      <td>0.011811</td>\n",
       "      <td>0.006423</td>\n",
       "      <td>0.007184</td>\n",
       "    </tr>\n",
       "  </tbody>\n",
       "</table>\n",
       "</div>"
      ],
      "text/plain": [
       "                   F      FCAU        TM  Portfolio\n",
       "Date                                               \n",
       "2019-03-27 -0.015982  0.018194 -0.006077  -0.001336\n",
       "2019-03-28  0.017401 -0.020516 -0.016194  -0.006534\n",
       "2019-03-29  0.001140  0.003378 -0.008818  -0.001507\n",
       "2019-04-01  0.022779  0.026263  0.015760   0.021542\n",
       "2019-04-02  0.003341  0.011811  0.006423   0.007184"
      ]
     },
     "execution_count": 128,
     "metadata": {},
     "output_type": "execute_result"
    }
   ],
   "source": [
    "#returns on portfolio \n",
    "\n",
    "stocks_return['Portfolio'] = weighted_returns_portfolio.sum(axis=1).dropna()\n",
    "stocks_return.tail()"
   ]
  },
  {
   "cell_type": "code",
   "execution_count": 129,
   "metadata": {},
   "outputs": [
    {
     "data": {
      "text/html": [
       "<div>\n",
       "<style>\n",
       "    .dataframe thead tr:only-child th {\n",
       "        text-align: right;\n",
       "    }\n",
       "\n",
       "    .dataframe thead th {\n",
       "        text-align: left;\n",
       "    }\n",
       "\n",
       "    .dataframe tbody tr th {\n",
       "        vertical-align: top;\n",
       "    }\n",
       "</style>\n",
       "<table border=\"1\" class=\"dataframe\">\n",
       "  <thead>\n",
       "    <tr style=\"text-align: right;\">\n",
       "      <th></th>\n",
       "      <th>F</th>\n",
       "      <th>FCAU</th>\n",
       "      <th>TM</th>\n",
       "      <th>Portfolio</th>\n",
       "      <th>Benchmark</th>\n",
       "    </tr>\n",
       "    <tr>\n",
       "      <th>Date</th>\n",
       "      <th></th>\n",
       "      <th></th>\n",
       "      <th></th>\n",
       "      <th></th>\n",
       "      <th></th>\n",
       "    </tr>\n",
       "  </thead>\n",
       "  <tbody>\n",
       "    <tr>\n",
       "      <th>2019-03-27</th>\n",
       "      <td>-0.015982</td>\n",
       "      <td>0.018194</td>\n",
       "      <td>-0.006077</td>\n",
       "      <td>-0.001336</td>\n",
       "      <td>-0.005229</td>\n",
       "    </tr>\n",
       "    <tr>\n",
       "      <th>2019-03-28</th>\n",
       "      <td>0.017401</td>\n",
       "      <td>-0.020516</td>\n",
       "      <td>-0.016194</td>\n",
       "      <td>-0.006534</td>\n",
       "      <td>0.003790</td>\n",
       "    </tr>\n",
       "    <tr>\n",
       "      <th>2019-03-29</th>\n",
       "      <td>0.001140</td>\n",
       "      <td>0.003378</td>\n",
       "      <td>-0.008818</td>\n",
       "      <td>-0.001507</td>\n",
       "      <td>0.006306</td>\n",
       "    </tr>\n",
       "    <tr>\n",
       "      <th>2019-04-01</th>\n",
       "      <td>0.022779</td>\n",
       "      <td>0.026263</td>\n",
       "      <td>0.015760</td>\n",
       "      <td>0.021542</td>\n",
       "      <td>0.011859</td>\n",
       "    </tr>\n",
       "    <tr>\n",
       "      <th>2019-04-02</th>\n",
       "      <td>0.003341</td>\n",
       "      <td>0.011811</td>\n",
       "      <td>0.006423</td>\n",
       "      <td>0.007184</td>\n",
       "      <td>0.000490</td>\n",
       "    </tr>\n",
       "  </tbody>\n",
       "</table>\n",
       "</div>"
      ],
      "text/plain": [
       "                   F      FCAU        TM  Portfolio  Benchmark\n",
       "Date                                                          \n",
       "2019-03-27 -0.015982  0.018194 -0.006077  -0.001336  -0.005229\n",
       "2019-03-28  0.017401 -0.020516 -0.016194  -0.006534   0.003790\n",
       "2019-03-29  0.001140  0.003378 -0.008818  -0.001507   0.006306\n",
       "2019-04-01  0.022779  0.026263  0.015760   0.021542   0.011859\n",
       "2019-04-02  0.003341  0.011811  0.006423   0.007184   0.000490"
      ]
     },
     "execution_count": 129,
     "metadata": {},
     "output_type": "execute_result"
    }
   ],
   "source": [
    "start = datetime.datetime(2014, 1, 2)\n",
    "end = datetime.datetime(2019, 4, 1)\n",
    "\n",
    "stocks_return['Benchmark'] = web.DataReader('SPY','yahoo',start,end)['Close']\n",
    "\n",
    "stocks_return['Benchmark'] = stocks_return['Benchmark'].pct_change(1).dropna()\n",
    "\n",
    "stocks_return.dropna().tail()\n"
   ]
  },
  {
   "cell_type": "code",
   "execution_count": 130,
   "metadata": {
    "scrolled": true
   },
   "outputs": [
    {
     "data": {
      "image/png": "[encoded data removed]",
      "text/plain": [
       "<matplotlib.figure.Figure at 0x11f8f2080>"
      ]
     },
     "metadata": {},
     "output_type": "display_data"
    }
   ],
   "source": [
    "CumulativeReturns = ((1+stocks_return[['Portfolio','Benchmark']]).cumprod()-1)\n",
    "CumulativeReturns.plot(figsize=(16,4))\n",
    "_ = plt.ylabel('Returns')\n",
    "\n",
    "_ = plt.title('Comparison - Portfolio vs. Benchmark')\n",
    "\n",
    "_ = plt.xlabel('Date')\n",
    "\n",
    "plt.show()"
   ]
  },
  {
   "cell_type": "code",
   "execution_count": 133,
   "metadata": {},
   "outputs": [
    {
     "data": {
      "image/png": "[encoded data removed]",
      "text/plain": [
       "<matplotlib.figure.Figure at 0x1149c24a8>"
      ]
     },
     "metadata": {},
     "output_type": "display_data"
    }
   ],
   "source": [
    "plt.scatter(stocks_return['Portfolio'],stocks_return['Benchmark'],alpha=0.80);\n",
    "\n",
    "_ = plt.ylabel('Returns')\n",
    "\n",
    "_ = plt.title('Correlation - Portfolio vs. Benchmark')\n",
    "\n",
    "_ = plt.xlabel('Date')"
   ]
  },
  {
   "cell_type": "code",
   "execution_count": 16,
   "metadata": {
    "collapsed": true
   },
   "outputs": [],
   "source": [
    "stocks_return['RF Rate'] = 0.0103"
   ]
  },
  {
   "cell_type": "code",
   "execution_count": 57,
   "metadata": {},
   "outputs": [
    {
     "data": {
      "text/html": [
       "<div>\n",
       "<style>\n",
       "    .dataframe thead tr:only-child th {\n",
       "        text-align: right;\n",
       "    }\n",
       "\n",
       "    .dataframe thead th {\n",
       "        text-align: left;\n",
       "    }\n",
       "\n",
       "    .dataframe tbody tr th {\n",
       "        vertical-align: top;\n",
       "    }\n",
       "</style>\n",
       "<table border=\"1\" class=\"dataframe\">\n",
       "  <thead>\n",
       "    <tr style=\"text-align: right;\">\n",
       "      <th></th>\n",
       "      <th>Portfolio</th>\n",
       "      <th>Benchmark</th>\n",
       "    </tr>\n",
       "    <tr>\n",
       "      <th>Date</th>\n",
       "      <th></th>\n",
       "      <th></th>\n",
       "    </tr>\n",
       "  </thead>\n",
       "  <tbody>\n",
       "    <tr>\n",
       "      <th>2019-03-27</th>\n",
       "      <td>-0.002729</td>\n",
       "      <td>-0.005229</td>\n",
       "    </tr>\n",
       "    <tr>\n",
       "      <th>2019-03-28</th>\n",
       "      <td>-0.001754</td>\n",
       "      <td>0.003790</td>\n",
       "    </tr>\n",
       "    <tr>\n",
       "      <th>2019-03-29</th>\n",
       "      <td>-0.000805</td>\n",
       "      <td>0.006306</td>\n",
       "    </tr>\n",
       "    <tr>\n",
       "      <th>2019-04-01</th>\n",
       "      <td>0.020648</td>\n",
       "      <td>0.011859</td>\n",
       "    </tr>\n",
       "    <tr>\n",
       "      <th>2019-04-02</th>\n",
       "      <td>0.005725</td>\n",
       "      <td>0.000490</td>\n",
       "    </tr>\n",
       "  </tbody>\n",
       "</table>\n",
       "</div>"
      ],
      "text/plain": [
       "            Portfolio   Benchmark\n",
       "Date                             \n",
       "2019-03-27  -0.002729   -0.005229\n",
       "2019-03-28  -0.001754    0.003790\n",
       "2019-03-29  -0.000805    0.006306\n",
       "2019-04-01   0.020648    0.011859\n",
       "2019-04-02   0.005725    0.000490"
      ]
     },
     "execution_count": 57,
     "metadata": {},
     "output_type": "execute_result"
    }
   ],
   "source": [
    "portfolio_benchmark = pd.concat([stocks_return['Portfolio'],stocks_return['Benchmark']],axis=1).dropna()\n",
    "portfolio_benchmark.columns = ['Portfolio',' Benchmark']\n",
    "portfolio_benchmark.tail()"
   ]
  },
  {
   "cell_type": "code",
   "execution_count": 59,
   "metadata": {},
   "outputs": [
    {
     "data": {
      "text/html": [
       "<div>\n",
       "<style>\n",
       "    .dataframe thead tr:only-child th {\n",
       "        text-align: right;\n",
       "    }\n",
       "\n",
       "    .dataframe thead th {\n",
       "        text-align: left;\n",
       "    }\n",
       "\n",
       "    .dataframe tbody tr th {\n",
       "        vertical-align: top;\n",
       "    }\n",
       "</style>\n",
       "<table border=\"1\" class=\"dataframe\">\n",
       "  <thead>\n",
       "    <tr style=\"text-align: right;\">\n",
       "      <th></th>\n",
       "      <th>Portfolio</th>\n",
       "      <th>Benchmark</th>\n",
       "    </tr>\n",
       "  </thead>\n",
       "  <tbody>\n",
       "    <tr>\n",
       "      <th>Portfolio</th>\n",
       "      <td>1.000000</td>\n",
       "      <td>0.666916</td>\n",
       "    </tr>\n",
       "    <tr>\n",
       "      <th>Benchmark</th>\n",
       "      <td>0.666916</td>\n",
       "      <td>1.000000</td>\n",
       "    </tr>\n",
       "  </tbody>\n",
       "</table>\n",
       "</div>"
      ],
      "text/plain": [
       "            Portfolio   Benchmark\n",
       "Portfolio    1.000000    0.666916\n",
       " Benchmark   0.666916    1.000000"
      ]
     },
     "execution_count": 59,
     "metadata": {},
     "output_type": "execute_result"
    }
   ],
   "source": [
    "correlation = portfolio_benchmark.corr() \n",
    "correlation"
   ]
  },
  {
   "cell_type": "code",
   "execution_count": 135,
   "metadata": {},
   "outputs": [
    {
     "data": {
      "text/html": [
       "<div>\n",
       "<style>\n",
       "    .dataframe thead tr:only-child th {\n",
       "        text-align: right;\n",
       "    }\n",
       "\n",
       "    .dataframe thead th {\n",
       "        text-align: left;\n",
       "    }\n",
       "\n",
       "    .dataframe tbody tr th {\n",
       "        vertical-align: top;\n",
       "    }\n",
       "</style>\n",
       "<table border=\"1\" class=\"dataframe\">\n",
       "  <thead>\n",
       "    <tr style=\"text-align: right;\">\n",
       "      <th></th>\n",
       "      <th>F</th>\n",
       "      <th>FCAU</th>\n",
       "      <th>TM</th>\n",
       "      <th>Portfolio</th>\n",
       "      <th>Benchmark</th>\n",
       "      <th>RF Rate</th>\n",
       "    </tr>\n",
       "    <tr>\n",
       "      <th>Date</th>\n",
       "      <th></th>\n",
       "      <th></th>\n",
       "      <th></th>\n",
       "      <th></th>\n",
       "      <th></th>\n",
       "      <th></th>\n",
       "    </tr>\n",
       "  </thead>\n",
       "  <tbody>\n",
       "    <tr>\n",
       "      <th>2019-03-27</th>\n",
       "      <td>-0.015982</td>\n",
       "      <td>0.018194</td>\n",
       "      <td>-0.006077</td>\n",
       "      <td>-0.001336</td>\n",
       "      <td>-0.005229</td>\n",
       "      <td>0.0103</td>\n",
       "    </tr>\n",
       "    <tr>\n",
       "      <th>2019-03-28</th>\n",
       "      <td>0.017401</td>\n",
       "      <td>-0.020516</td>\n",
       "      <td>-0.016194</td>\n",
       "      <td>-0.006534</td>\n",
       "      <td>0.003790</td>\n",
       "      <td>0.0103</td>\n",
       "    </tr>\n",
       "    <tr>\n",
       "      <th>2019-03-29</th>\n",
       "      <td>0.001140</td>\n",
       "      <td>0.003378</td>\n",
       "      <td>-0.008818</td>\n",
       "      <td>-0.001507</td>\n",
       "      <td>0.006306</td>\n",
       "      <td>0.0103</td>\n",
       "    </tr>\n",
       "    <tr>\n",
       "      <th>2019-04-01</th>\n",
       "      <td>0.022779</td>\n",
       "      <td>0.026263</td>\n",
       "      <td>0.015760</td>\n",
       "      <td>0.021542</td>\n",
       "      <td>0.011859</td>\n",
       "      <td>0.0103</td>\n",
       "    </tr>\n",
       "    <tr>\n",
       "      <th>2019-04-02</th>\n",
       "      <td>0.003341</td>\n",
       "      <td>0.011811</td>\n",
       "      <td>0.006423</td>\n",
       "      <td>0.007184</td>\n",
       "      <td>0.000490</td>\n",
       "      <td>0.0103</td>\n",
       "    </tr>\n",
       "  </tbody>\n",
       "</table>\n",
       "</div>"
      ],
      "text/plain": [
       "                   F      FCAU        TM  Portfolio  Benchmark  RF Rate\n",
       "Date                                                                   \n",
       "2019-03-27 -0.015982  0.018194 -0.006077  -0.001336  -0.005229   0.0103\n",
       "2019-03-28  0.017401 -0.020516 -0.016194  -0.006534   0.003790   0.0103\n",
       "2019-03-29  0.001140  0.003378 -0.008818  -0.001507   0.006306   0.0103\n",
       "2019-04-01  0.022779  0.026263  0.015760   0.021542   0.011859   0.0103\n",
       "2019-04-02  0.003341  0.011811  0.006423   0.007184   0.000490   0.0103"
      ]
     },
     "execution_count": 135,
     "metadata": {},
     "output_type": "execute_result"
    }
   ],
   "source": [
    "stocks_return['RF Rate'] = 0.0103\n",
    "stocks_return.tail()"
   ]
  },
  {
   "cell_type": "code",
   "execution_count": 63,
   "metadata": {
    "collapsed": true
   },
   "outputs": [],
   "source": [
    "stocks_return['excess'] = stocks_return['Portfolio'] - stocks_return['RF Rate']"
   ]
  },
  {
   "cell_type": "code",
   "execution_count": 64,
   "metadata": {},
   "outputs": [
    {
     "data": {
      "text/html": [
       "<div>\n",
       "<style>\n",
       "    .dataframe thead tr:only-child th {\n",
       "        text-align: right;\n",
       "    }\n",
       "\n",
       "    .dataframe thead th {\n",
       "        text-align: left;\n",
       "    }\n",
       "\n",
       "    .dataframe tbody tr th {\n",
       "        vertical-align: top;\n",
       "    }\n",
       "</style>\n",
       "<table border=\"1\" class=\"dataframe\">\n",
       "  <thead>\n",
       "    <tr style=\"text-align: right;\">\n",
       "      <th></th>\n",
       "      <th>F</th>\n",
       "      <th>FCAU</th>\n",
       "      <th>TM</th>\n",
       "      <th>Portfolio</th>\n",
       "      <th>Benchmark</th>\n",
       "      <th>RF Rate</th>\n",
       "      <th>excess</th>\n",
       "      <th>excess_b</th>\n",
       "    </tr>\n",
       "    <tr>\n",
       "      <th>Date</th>\n",
       "      <th></th>\n",
       "      <th></th>\n",
       "      <th></th>\n",
       "      <th></th>\n",
       "      <th></th>\n",
       "      <th></th>\n",
       "      <th></th>\n",
       "      <th></th>\n",
       "    </tr>\n",
       "  </thead>\n",
       "  <tbody>\n",
       "    <tr>\n",
       "      <th>2019-03-27</th>\n",
       "      <td>-0.015982</td>\n",
       "      <td>0.018194</td>\n",
       "      <td>-0.006077</td>\n",
       "      <td>-0.002729</td>\n",
       "      <td>-0.005229</td>\n",
       "      <td>0.0103</td>\n",
       "      <td>-0.013029</td>\n",
       "      <td>-0.015529</td>\n",
       "    </tr>\n",
       "    <tr>\n",
       "      <th>2019-03-28</th>\n",
       "      <td>0.017401</td>\n",
       "      <td>-0.020516</td>\n",
       "      <td>-0.016194</td>\n",
       "      <td>-0.001754</td>\n",
       "      <td>0.003790</td>\n",
       "      <td>0.0103</td>\n",
       "      <td>-0.012054</td>\n",
       "      <td>-0.006510</td>\n",
       "    </tr>\n",
       "    <tr>\n",
       "      <th>2019-03-29</th>\n",
       "      <td>0.001140</td>\n",
       "      <td>0.003378</td>\n",
       "      <td>-0.008818</td>\n",
       "      <td>-0.000805</td>\n",
       "      <td>0.006306</td>\n",
       "      <td>0.0103</td>\n",
       "      <td>-0.011105</td>\n",
       "      <td>-0.003994</td>\n",
       "    </tr>\n",
       "    <tr>\n",
       "      <th>2019-04-01</th>\n",
       "      <td>0.022779</td>\n",
       "      <td>0.026263</td>\n",
       "      <td>0.015760</td>\n",
       "      <td>0.020648</td>\n",
       "      <td>0.011859</td>\n",
       "      <td>0.0103</td>\n",
       "      <td>0.010348</td>\n",
       "      <td>0.001559</td>\n",
       "    </tr>\n",
       "    <tr>\n",
       "      <th>2019-04-02</th>\n",
       "      <td>0.003341</td>\n",
       "      <td>0.011811</td>\n",
       "      <td>0.006423</td>\n",
       "      <td>0.005725</td>\n",
       "      <td>0.000490</td>\n",
       "      <td>0.0103</td>\n",
       "      <td>-0.004575</td>\n",
       "      <td>-0.009810</td>\n",
       "    </tr>\n",
       "  </tbody>\n",
       "</table>\n",
       "</div>"
      ],
      "text/plain": [
       "                   F      FCAU        TM  Portfolio  Benchmark  RF Rate  \\\n",
       "Date                                                                      \n",
       "2019-03-27 -0.015982  0.018194 -0.006077  -0.002729  -0.005229   0.0103   \n",
       "2019-03-28  0.017401 -0.020516 -0.016194  -0.001754   0.003790   0.0103   \n",
       "2019-03-29  0.001140  0.003378 -0.008818  -0.000805   0.006306   0.0103   \n",
       "2019-04-01  0.022779  0.026263  0.015760   0.020648   0.011859   0.0103   \n",
       "2019-04-02  0.003341  0.011811  0.006423   0.005725   0.000490   0.0103   \n",
       "\n",
       "              excess  excess_b  \n",
       "Date                            \n",
       "2019-03-27 -0.013029 -0.015529  \n",
       "2019-03-28 -0.012054 -0.006510  \n",
       "2019-03-29 -0.011105 -0.003994  \n",
       "2019-04-01  0.010348  0.001559  \n",
       "2019-04-02 -0.004575 -0.009810  "
      ]
     },
     "execution_count": 64,
     "metadata": {},
     "output_type": "execute_result"
    }
   ],
   "source": [
    "stocks_return['excess_b'] = stocks_return['Benchmark'] - stocks_return['RF Rate']\n",
    "\n",
    "stocks_return.tail()"
   ]
  },
  {
   "cell_type": "code",
   "execution_count": 65,
   "metadata": {
    "collapsed": true
   },
   "outputs": [],
   "source": [
    "import statsmodels.formula.api as smf \n",
    "\n",
    "#elaborting a regression\n",
    "CAPM_model = smf.ols(formula='excess ~ excess_b', data=stocks_return)\n",
    "\n",
    "\n"
   ]
  },
  {
   "cell_type": "code",
   "execution_count": 66,
   "metadata": {
    "collapsed": true
   },
   "outputs": [],
   "source": [
    "# Fitting the regression\n",
    "\n",
    "CAPM_fitted = CAPM_model.fit()\n",
    "\n"
   ]
  },
  {
   "cell_type": "code",
   "execution_count": 67,
   "metadata": {},
   "outputs": [
    {
     "data": {
      "text/plain": [
       "0.96691540919715346"
      ]
     },
     "execution_count": 67,
     "metadata": {},
     "output_type": "execute_result"
    }
   ],
   "source": [
    "# obtaining the beta \n",
    "\n",
    "beta = CAPM_fitted.params['excess_b']\n",
    "beta"
   ]
  },
  {
   "cell_type": "code",
   "execution_count": 103,
   "metadata": {},
   "outputs": [
    {
     "data": {
      "image/png": "[encoded data removed]",
      "text/plain": [
       "<matplotlib.figure.Figure at 0x11a6f0e10>"
      ]
     },
     "metadata": {},
     "output_type": "display_data"
    }
   ],
   "source": [
    "stocks_return['Portfolio'].plot(kind='hist',bins=100,figsize=(8,10));\n",
    "\n",
    "_ = plt.ylabel('Frequency')\n",
    "\n",
    "_ = plt.title('Histogram - Portfolio')\n",
    "\n",
    "_ = plt.xlabel('Returns')"
   ]
  },
  {
   "cell_type": "code",
   "execution_count": 76,
   "metadata": {},
   "outputs": [
    {
     "data": {
      "image/png": "[encoded data removed]",
      "text/plain": [
       "<matplotlib.figure.Figure at 0x11f7837f0>"
      ]
     },
     "metadata": {},
     "output_type": "display_data"
    }
   ],
   "source": [
    "stocks_return['Portfolio'].plot(kind='kde',bw_method='scott', label='IBM',figsize=(12,6));\n",
    "\n",
    "_ = plt.xlabel('Portfolio Return')\n",
    "\n",
    "_ = plt.ylabel('Density')\n",
    "\n",
    "_ = plt.title('Portfolio Return')\n"
   ]
  },
  {
   "cell_type": "code",
   "execution_count": 136,
   "metadata": {},
   "outputs": [
    {
     "data": {
      "text/plain": [
       "-0.7134969693218578"
      ]
     },
     "execution_count": 136,
     "metadata": {},
     "output_type": "execute_result"
    }
   ],
   "source": [
    "sharpe_ratio = ((stocks_return['Portfolio'].mean() - stocks_return['RF Rate'].mean()))/stocks_return['Portfolio'].std()\n",
    "sharpe_ratio"
   ]
  },
  {
   "cell_type": "code",
   "execution_count": 79,
   "metadata": {},
   "outputs": [
    {
     "data": {
      "text/plain": [
       "-11.18589313516733"
      ]
     },
     "execution_count": 79,
     "metadata": {},
     "output_type": "execute_result"
    }
   ],
   "source": [
    "import math\n",
    "\n",
    "annual_days = 252\n",
    "\n",
    "sharpe_ratio_annual = sharpe_ratio * math.sqrt(annual_days)\n",
    "sharpe_ratio_annual"
   ]
  },
  {
   "cell_type": "code",
   "execution_count": 81,
   "metadata": {},
   "outputs": [
    {
     "data": {
      "text/plain": [
       "-1.0656648417374064"
      ]
     },
     "execution_count": 81,
     "metadata": {},
     "output_type": "execute_result"
    }
   ],
   "source": [
    "(stocks_return['Portfolio'].mean() - 0.0103) * 100"
   ]
  },
  {
   "cell_type": "code",
   "execution_count": null,
   "metadata": {
    "collapsed": true
   },
   "outputs": [],
   "source": []
  }
 ],
 "metadata": {
  "kernelspec": {
   "display_name": "Python 3",
   "language": "python",
   "name": "python3"
  },
  "language_info": {
   "codemirror_mode": {
    "name": "ipython",
    "version": 3
   },
   "file_extension": ".py",
   "mimetype": "text/x-python",
   "name": "python",
   "nbconvert_exporter": "python",
   "pygments_lexer": "ipython3",
   "version": "3.6.1"
  }
 },
 "nbformat": 4,
 "nbformat_minor": 2
}
