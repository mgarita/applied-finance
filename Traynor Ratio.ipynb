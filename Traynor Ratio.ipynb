{
 "cells": [
  {
   "cell_type": "code",
   "execution_count": 1,
   "metadata": {
    "collapsed": true
   },
   "outputs": [],
   "source": [
    "#installing packages \n",
    "\n",
    "import numpy as np\n",
    "import pandas as pd\n",
    "from pandas_datareader import data as web\n",
    "import pandas_datareader\n",
    "import datetime\n",
    "import matplotlib.pyplot as plt\n",
    "%matplotlib inline"
   ]
  },
  {
   "cell_type": "code",
   "execution_count": 2,
   "metadata": {
    "collapsed": true
   },
   "outputs": [],
   "source": [
    "# set the dates for the analysis\n",
    "\n",
    "start = datetime.datetime(2018, 1, 2)\n",
    "end = datetime.datetime(2019, 4, 1)"
   ]
  },
  {
   "cell_type": "code",
   "execution_count": 3,
   "metadata": {
    "collapsed": true
   },
   "outputs": [],
   "source": [
    "start = datetime.datetime(2018, 1, 2)\n",
    "end = datetime.datetime(2019, 4, 1)\n",
    "\n",
    "tickers = ['F','FCAU', 'TM',]\n",
    "stocks = pd.DataFrame()\n",
    "for x in tickers:\n",
    "    stocks[x] = web.DataReader(x, 'yahoo', start, end)['Close']"
   ]
  },
  {
   "cell_type": "code",
   "execution_count": 4,
   "metadata": {},
   "outputs": [
    {
     "data": {
      "text/html": [
       "<div>\n",
       "<style>\n",
       "    .dataframe thead tr:only-child th {\n",
       "        text-align: right;\n",
       "    }\n",
       "\n",
       "    .dataframe thead th {\n",
       "        text-align: left;\n",
       "    }\n",
       "\n",
       "    .dataframe tbody tr th {\n",
       "        vertical-align: top;\n",
       "    }\n",
       "</style>\n",
       "<table border=\"1\" class=\"dataframe\">\n",
       "  <thead>\n",
       "    <tr style=\"text-align: right;\">\n",
       "      <th></th>\n",
       "      <th>F</th>\n",
       "      <th>FCAU</th>\n",
       "      <th>TM</th>\n",
       "    </tr>\n",
       "    <tr>\n",
       "      <th>Date</th>\n",
       "      <th></th>\n",
       "      <th></th>\n",
       "      <th></th>\n",
       "    </tr>\n",
       "  </thead>\n",
       "  <tbody>\n",
       "    <tr>\n",
       "      <th>2019-03-27</th>\n",
       "      <td>-0.016111</td>\n",
       "      <td>0.018031</td>\n",
       "      <td>-0.006096</td>\n",
       "    </tr>\n",
       "    <tr>\n",
       "      <th>2019-03-28</th>\n",
       "      <td>0.017252</td>\n",
       "      <td>-0.020730</td>\n",
       "      <td>-0.016327</td>\n",
       "    </tr>\n",
       "    <tr>\n",
       "      <th>2019-03-29</th>\n",
       "      <td>0.001140</td>\n",
       "      <td>0.003373</td>\n",
       "      <td>-0.008857</td>\n",
       "    </tr>\n",
       "    <tr>\n",
       "      <th>2019-04-01</th>\n",
       "      <td>0.022523</td>\n",
       "      <td>0.025924</td>\n",
       "      <td>0.015637</td>\n",
       "    </tr>\n",
       "    <tr>\n",
       "      <th>2019-04-02</th>\n",
       "      <td>0.003335</td>\n",
       "      <td>0.011742</td>\n",
       "      <td>0.006403</td>\n",
       "    </tr>\n",
       "  </tbody>\n",
       "</table>\n",
       "</div>"
      ],
      "text/plain": [
       "                   F      FCAU        TM\n",
       "Date                                    \n",
       "2019-03-27 -0.016111  0.018031 -0.006096\n",
       "2019-03-28  0.017252 -0.020730 -0.016327\n",
       "2019-03-29  0.001140  0.003373 -0.008857\n",
       "2019-04-01  0.022523  0.025924  0.015637\n",
       "2019-04-02  0.003335  0.011742  0.006403"
      ]
     },
     "execution_count": 4,
     "metadata": {},
     "output_type": "execute_result"
    }
   ],
   "source": [
    "#returns \n",
    "\n",
    "stocks_return = np.log(stocks/stocks.shift(1))\n",
    "stocks_return.tail()"
   ]
  },
  {
   "cell_type": "code",
   "execution_count": 5,
   "metadata": {
    "collapsed": true
   },
   "outputs": [],
   "source": [
    "# Creating the portfolio weights (4 weights)\n",
    "\n",
    "portfolio_weights = np.array([0.33, 0.33, 0.34])"
   ]
  },
  {
   "cell_type": "code",
   "execution_count": 6,
   "metadata": {},
   "outputs": [
    {
     "data": {
      "text/html": [
       "<div>\n",
       "<style>\n",
       "    .dataframe thead tr:only-child th {\n",
       "        text-align: right;\n",
       "    }\n",
       "\n",
       "    .dataframe thead th {\n",
       "        text-align: left;\n",
       "    }\n",
       "\n",
       "    .dataframe tbody tr th {\n",
       "        vertical-align: top;\n",
       "    }\n",
       "</style>\n",
       "<table border=\"1\" class=\"dataframe\">\n",
       "  <thead>\n",
       "    <tr style=\"text-align: right;\">\n",
       "      <th></th>\n",
       "      <th>F</th>\n",
       "      <th>FCAU</th>\n",
       "      <th>TM</th>\n",
       "    </tr>\n",
       "    <tr>\n",
       "      <th>Date</th>\n",
       "      <th></th>\n",
       "      <th></th>\n",
       "      <th></th>\n",
       "    </tr>\n",
       "  </thead>\n",
       "  <tbody>\n",
       "    <tr>\n",
       "      <th>2019-03-27</th>\n",
       "      <td>-0.005317</td>\n",
       "      <td>0.005950</td>\n",
       "      <td>-0.002072</td>\n",
       "    </tr>\n",
       "    <tr>\n",
       "      <th>2019-03-28</th>\n",
       "      <td>0.005693</td>\n",
       "      <td>-0.006841</td>\n",
       "      <td>-0.005551</td>\n",
       "    </tr>\n",
       "    <tr>\n",
       "      <th>2019-03-29</th>\n",
       "      <td>0.000376</td>\n",
       "      <td>0.001113</td>\n",
       "      <td>-0.003012</td>\n",
       "    </tr>\n",
       "    <tr>\n",
       "      <th>2019-04-01</th>\n",
       "      <td>0.007433</td>\n",
       "      <td>0.008555</td>\n",
       "      <td>0.005317</td>\n",
       "    </tr>\n",
       "    <tr>\n",
       "      <th>2019-04-02</th>\n",
       "      <td>0.001101</td>\n",
       "      <td>0.003875</td>\n",
       "      <td>0.002177</td>\n",
       "    </tr>\n",
       "  </tbody>\n",
       "</table>\n",
       "</div>"
      ],
      "text/plain": [
       "                   F      FCAU        TM\n",
       "Date                                    \n",
       "2019-03-27 -0.005317  0.005950 -0.002072\n",
       "2019-03-28  0.005693 -0.006841 -0.005551\n",
       "2019-03-29  0.000376  0.001113 -0.003012\n",
       "2019-04-01  0.007433  0.008555  0.005317\n",
       "2019-04-02  0.001101  0.003875  0.002177"
      ]
     },
     "execution_count": 6,
     "metadata": {},
     "output_type": "execute_result"
    }
   ],
   "source": [
    "# returns with weights \n",
    "\n",
    "weighted_returns_portfolio = stocks_return.mul(portfolio_weights, axis = 1)\n",
    "\n",
    "weighted_returns_portfolio.tail().dropna()"
   ]
  },
  {
   "cell_type": "code",
   "execution_count": 7,
   "metadata": {},
   "outputs": [
    {
     "data": {
      "text/html": [
       "<div>\n",
       "<style>\n",
       "    .dataframe thead tr:only-child th {\n",
       "        text-align: right;\n",
       "    }\n",
       "\n",
       "    .dataframe thead th {\n",
       "        text-align: left;\n",
       "    }\n",
       "\n",
       "    .dataframe tbody tr th {\n",
       "        vertical-align: top;\n",
       "    }\n",
       "</style>\n",
       "<table border=\"1\" class=\"dataframe\">\n",
       "  <thead>\n",
       "    <tr style=\"text-align: right;\">\n",
       "      <th></th>\n",
       "      <th>F</th>\n",
       "      <th>FCAU</th>\n",
       "      <th>TM</th>\n",
       "      <th>Portfolio</th>\n",
       "    </tr>\n",
       "    <tr>\n",
       "      <th>Date</th>\n",
       "      <th></th>\n",
       "      <th></th>\n",
       "      <th></th>\n",
       "      <th></th>\n",
       "    </tr>\n",
       "  </thead>\n",
       "  <tbody>\n",
       "    <tr>\n",
       "      <th>2019-03-27</th>\n",
       "      <td>-0.016111</td>\n",
       "      <td>0.018031</td>\n",
       "      <td>-0.006096</td>\n",
       "      <td>-0.001439</td>\n",
       "    </tr>\n",
       "    <tr>\n",
       "      <th>2019-03-28</th>\n",
       "      <td>0.017252</td>\n",
       "      <td>-0.020730</td>\n",
       "      <td>-0.016327</td>\n",
       "      <td>-0.006699</td>\n",
       "    </tr>\n",
       "    <tr>\n",
       "      <th>2019-03-29</th>\n",
       "      <td>0.001140</td>\n",
       "      <td>0.003373</td>\n",
       "      <td>-0.008857</td>\n",
       "      <td>-0.001522</td>\n",
       "    </tr>\n",
       "    <tr>\n",
       "      <th>2019-04-01</th>\n",
       "      <td>0.022523</td>\n",
       "      <td>0.025924</td>\n",
       "      <td>0.015637</td>\n",
       "      <td>0.021304</td>\n",
       "    </tr>\n",
       "    <tr>\n",
       "      <th>2019-04-02</th>\n",
       "      <td>0.003335</td>\n",
       "      <td>0.011742</td>\n",
       "      <td>0.006403</td>\n",
       "      <td>0.007152</td>\n",
       "    </tr>\n",
       "  </tbody>\n",
       "</table>\n",
       "</div>"
      ],
      "text/plain": [
       "                   F      FCAU        TM  Portfolio\n",
       "Date                                               \n",
       "2019-03-27 -0.016111  0.018031 -0.006096  -0.001439\n",
       "2019-03-28  0.017252 -0.020730 -0.016327  -0.006699\n",
       "2019-03-29  0.001140  0.003373 -0.008857  -0.001522\n",
       "2019-04-01  0.022523  0.025924  0.015637   0.021304\n",
       "2019-04-02  0.003335  0.011742  0.006403   0.007152"
      ]
     },
     "execution_count": 7,
     "metadata": {},
     "output_type": "execute_result"
    }
   ],
   "source": [
    "stocks_return['Portfolio'] = weighted_returns_portfolio.sum(axis=1).dropna()\n",
    "stocks_return.tail()"
   ]
  },
  {
   "cell_type": "code",
   "execution_count": null,
   "metadata": {
    "collapsed": true
   },
   "outputs": [],
   "source": []
  },
  {
   "cell_type": "code",
   "execution_count": 8,
   "metadata": {},
   "outputs": [
    {
     "data": {
      "text/html": [
       "<div>\n",
       "<style>\n",
       "    .dataframe thead tr:only-child th {\n",
       "        text-align: right;\n",
       "    }\n",
       "\n",
       "    .dataframe thead th {\n",
       "        text-align: left;\n",
       "    }\n",
       "\n",
       "    .dataframe tbody tr th {\n",
       "        vertical-align: top;\n",
       "    }\n",
       "</style>\n",
       "<table border=\"1\" class=\"dataframe\">\n",
       "  <thead>\n",
       "    <tr style=\"text-align: right;\">\n",
       "      <th></th>\n",
       "      <th>F</th>\n",
       "      <th>FCAU</th>\n",
       "      <th>TM</th>\n",
       "      <th>Portfolio</th>\n",
       "      <th>Benchmark</th>\n",
       "    </tr>\n",
       "    <tr>\n",
       "      <th>Date</th>\n",
       "      <th></th>\n",
       "      <th></th>\n",
       "      <th></th>\n",
       "      <th></th>\n",
       "      <th></th>\n",
       "    </tr>\n",
       "  </thead>\n",
       "  <tbody>\n",
       "    <tr>\n",
       "      <th>2019-03-27</th>\n",
       "      <td>-0.016111</td>\n",
       "      <td>0.018031</td>\n",
       "      <td>-0.006096</td>\n",
       "      <td>-0.001439</td>\n",
       "      <td>-0.005229</td>\n",
       "    </tr>\n",
       "    <tr>\n",
       "      <th>2019-03-28</th>\n",
       "      <td>0.017252</td>\n",
       "      <td>-0.020730</td>\n",
       "      <td>-0.016327</td>\n",
       "      <td>-0.006699</td>\n",
       "      <td>0.003790</td>\n",
       "    </tr>\n",
       "    <tr>\n",
       "      <th>2019-03-29</th>\n",
       "      <td>0.001140</td>\n",
       "      <td>0.003373</td>\n",
       "      <td>-0.008857</td>\n",
       "      <td>-0.001522</td>\n",
       "      <td>0.006306</td>\n",
       "    </tr>\n",
       "    <tr>\n",
       "      <th>2019-04-01</th>\n",
       "      <td>0.022523</td>\n",
       "      <td>0.025924</td>\n",
       "      <td>0.015637</td>\n",
       "      <td>0.021304</td>\n",
       "      <td>0.011859</td>\n",
       "    </tr>\n",
       "    <tr>\n",
       "      <th>2019-04-02</th>\n",
       "      <td>0.003335</td>\n",
       "      <td>0.011742</td>\n",
       "      <td>0.006403</td>\n",
       "      <td>0.007152</td>\n",
       "      <td>0.000490</td>\n",
       "    </tr>\n",
       "  </tbody>\n",
       "</table>\n",
       "</div>"
      ],
      "text/plain": [
       "                   F      FCAU        TM  Portfolio  Benchmark\n",
       "Date                                                          \n",
       "2019-03-27 -0.016111  0.018031 -0.006096  -0.001439  -0.005229\n",
       "2019-03-28  0.017252 -0.020730 -0.016327  -0.006699   0.003790\n",
       "2019-03-29  0.001140  0.003373 -0.008857  -0.001522   0.006306\n",
       "2019-04-01  0.022523  0.025924  0.015637   0.021304   0.011859\n",
       "2019-04-02  0.003335  0.011742  0.006403   0.007152   0.000490"
      ]
     },
     "execution_count": 8,
     "metadata": {},
     "output_type": "execute_result"
    }
   ],
   "source": [
    "start = datetime.datetime(2018, 1, 2)\n",
    "end = datetime.datetime(2019, 4, 1)\n",
    "\n",
    "stocks_return['Benchmark'] = web.DataReader('SPY','yahoo',start,end)['Close']\n",
    "\n",
    "stocks_return['Benchmark'] = stocks_return['Benchmark'].pct_change(1).dropna()\n",
    "\n",
    "stocks_return.dropna().tail()"
   ]
  },
  {
   "cell_type": "code",
   "execution_count": 22,
   "metadata": {},
   "outputs": [
    {
     "data": {
      "image/png": "[encoded data removed]",
      "text/plain": [
       "<matplotlib.figure.Figure at 0x111205c18>"
      ]
     },
     "metadata": {},
     "output_type": "display_data"
    }
   ],
   "source": [
    "CumulativeReturns = ((1+stocks_return[['Portfolio','Benchmark']]).cumprod()-1)\n",
    "CumulativeReturns.plot(figsize=(16,4))\n",
    "_ = plt.ylabel('Returns')\n",
    "\n",
    "_ = plt.title('Comparison - Portfolio vs. Benchmark')\n",
    "\n",
    "_ = plt.xlabel('Date')\n",
    "\n",
    "plt.show()"
   ]
  },
  {
   "cell_type": "code",
   "execution_count": 9,
   "metadata": {},
   "outputs": [
    {
     "data": {
      "text/html": [
       "<div>\n",
       "<style>\n",
       "    .dataframe thead tr:only-child th {\n",
       "        text-align: right;\n",
       "    }\n",
       "\n",
       "    .dataframe thead th {\n",
       "        text-align: left;\n",
       "    }\n",
       "\n",
       "    .dataframe tbody tr th {\n",
       "        vertical-align: top;\n",
       "    }\n",
       "</style>\n",
       "<table border=\"1\" class=\"dataframe\">\n",
       "  <thead>\n",
       "    <tr style=\"text-align: right;\">\n",
       "      <th></th>\n",
       "      <th>F</th>\n",
       "      <th>FCAU</th>\n",
       "      <th>TM</th>\n",
       "      <th>Portfolio</th>\n",
       "      <th>Benchmark</th>\n",
       "    </tr>\n",
       "  </thead>\n",
       "  <tbody>\n",
       "    <tr>\n",
       "      <th>F</th>\n",
       "      <td>0.081996</td>\n",
       "      <td>0.056534</td>\n",
       "      <td>0.024013</td>\n",
       "      <td>0.053879</td>\n",
       "      <td>0.023830</td>\n",
       "    </tr>\n",
       "    <tr>\n",
       "      <th>FCAU</th>\n",
       "      <td>0.056534</td>\n",
       "      <td>0.167189</td>\n",
       "      <td>0.036997</td>\n",
       "      <td>0.086408</td>\n",
       "      <td>0.035823</td>\n",
       "    </tr>\n",
       "    <tr>\n",
       "      <th>TM</th>\n",
       "      <td>0.024013</td>\n",
       "      <td>0.036997</td>\n",
       "      <td>0.035576</td>\n",
       "      <td>0.032229</td>\n",
       "      <td>0.019736</td>\n",
       "    </tr>\n",
       "    <tr>\n",
       "      <th>Portfolio</th>\n",
       "      <td>0.053879</td>\n",
       "      <td>0.086408</td>\n",
       "      <td>0.032229</td>\n",
       "      <td>0.057070</td>\n",
       "      <td>0.026396</td>\n",
       "    </tr>\n",
       "    <tr>\n",
       "      <th>Benchmark</th>\n",
       "      <td>0.023830</td>\n",
       "      <td>0.035823</td>\n",
       "      <td>0.019736</td>\n",
       "      <td>0.026396</td>\n",
       "      <td>0.027260</td>\n",
       "    </tr>\n",
       "  </tbody>\n",
       "</table>\n",
       "</div>"
      ],
      "text/plain": [
       "                  F      FCAU        TM  Portfolio  Benchmark\n",
       "F          0.081996  0.056534  0.024013   0.053879   0.023830\n",
       "FCAU       0.056534  0.167189  0.036997   0.086408   0.035823\n",
       "TM         0.024013  0.036997  0.035576   0.032229   0.019736\n",
       "Portfolio  0.053879  0.086408  0.032229   0.057070   0.026396\n",
       "Benchmark  0.023830  0.035823  0.019736   0.026396   0.027260"
      ]
     },
     "execution_count": 9,
     "metadata": {},
     "output_type": "execute_result"
    }
   ],
   "source": [
    "covariance = stocks_return.cov() * 252\n",
    "covariance"
   ]
  },
  {
   "cell_type": "code",
   "execution_count": 16,
   "metadata": {},
   "outputs": [
    {
     "data": {
      "text/plain": [
       "0.026395748767295644"
      ]
     },
     "execution_count": 16,
     "metadata": {},
     "output_type": "execute_result"
    }
   ],
   "source": [
    "covariance_market = covariance.iloc[3,4]\n",
    "covariance_market "
   ]
  },
  {
   "cell_type": "code",
   "execution_count": 17,
   "metadata": {},
   "outputs": [
    {
     "data": {
      "text/plain": [
       "0.0272603495656794"
      ]
     },
     "execution_count": 17,
     "metadata": {},
     "output_type": "execute_result"
    }
   ],
   "source": [
    "market_variance = stocks_return['Benchmark'].var() * 252\n",
    "market_variance"
   ]
  },
  {
   "cell_type": "code",
   "execution_count": 18,
   "metadata": {},
   "outputs": [
    {
     "data": {
      "text/plain": [
       "0.96828357625053052"
      ]
     },
     "execution_count": 18,
     "metadata": {},
     "output_type": "execute_result"
    }
   ],
   "source": [
    "portfolio_beta = covariance_market / market_variance\n",
    "portfolio_beta\n"
   ]
  },
  {
   "cell_type": "code",
   "execution_count": 19,
   "metadata": {},
   "outputs": [
    {
     "data": {
      "text/html": [
       "<div>\n",
       "<style>\n",
       "    .dataframe thead tr:only-child th {\n",
       "        text-align: right;\n",
       "    }\n",
       "\n",
       "    .dataframe thead th {\n",
       "        text-align: left;\n",
       "    }\n",
       "\n",
       "    .dataframe tbody tr th {\n",
       "        vertical-align: top;\n",
       "    }\n",
       "</style>\n",
       "<table border=\"1\" class=\"dataframe\">\n",
       "  <thead>\n",
       "    <tr style=\"text-align: right;\">\n",
       "      <th></th>\n",
       "      <th>F</th>\n",
       "      <th>FCAU</th>\n",
       "      <th>TM</th>\n",
       "      <th>Portfolio</th>\n",
       "      <th>Benchmark</th>\n",
       "      <th>RF Rate</th>\n",
       "    </tr>\n",
       "    <tr>\n",
       "      <th>Date</th>\n",
       "      <th></th>\n",
       "      <th></th>\n",
       "      <th></th>\n",
       "      <th></th>\n",
       "      <th></th>\n",
       "      <th></th>\n",
       "    </tr>\n",
       "  </thead>\n",
       "  <tbody>\n",
       "    <tr>\n",
       "      <th>2019-03-27</th>\n",
       "      <td>-0.016111</td>\n",
       "      <td>0.018031</td>\n",
       "      <td>-0.006096</td>\n",
       "      <td>-0.001439</td>\n",
       "      <td>-0.005229</td>\n",
       "      <td>0.0103</td>\n",
       "    </tr>\n",
       "    <tr>\n",
       "      <th>2019-03-28</th>\n",
       "      <td>0.017252</td>\n",
       "      <td>-0.020730</td>\n",
       "      <td>-0.016327</td>\n",
       "      <td>-0.006699</td>\n",
       "      <td>0.003790</td>\n",
       "      <td>0.0103</td>\n",
       "    </tr>\n",
       "    <tr>\n",
       "      <th>2019-03-29</th>\n",
       "      <td>0.001140</td>\n",
       "      <td>0.003373</td>\n",
       "      <td>-0.008857</td>\n",
       "      <td>-0.001522</td>\n",
       "      <td>0.006306</td>\n",
       "      <td>0.0103</td>\n",
       "    </tr>\n",
       "    <tr>\n",
       "      <th>2019-04-01</th>\n",
       "      <td>0.022523</td>\n",
       "      <td>0.025924</td>\n",
       "      <td>0.015637</td>\n",
       "      <td>0.021304</td>\n",
       "      <td>0.011859</td>\n",
       "      <td>0.0103</td>\n",
       "    </tr>\n",
       "    <tr>\n",
       "      <th>2019-04-02</th>\n",
       "      <td>0.003335</td>\n",
       "      <td>0.011742</td>\n",
       "      <td>0.006403</td>\n",
       "      <td>0.007152</td>\n",
       "      <td>0.000490</td>\n",
       "      <td>0.0103</td>\n",
       "    </tr>\n",
       "  </tbody>\n",
       "</table>\n",
       "</div>"
      ],
      "text/plain": [
       "                   F      FCAU        TM  Portfolio  Benchmark  RF Rate\n",
       "Date                                                                   \n",
       "2019-03-27 -0.016111  0.018031 -0.006096  -0.001439  -0.005229   0.0103\n",
       "2019-03-28  0.017252 -0.020730 -0.016327  -0.006699   0.003790   0.0103\n",
       "2019-03-29  0.001140  0.003373 -0.008857  -0.001522   0.006306   0.0103\n",
       "2019-04-01  0.022523  0.025924  0.015637   0.021304   0.011859   0.0103\n",
       "2019-04-02  0.003335  0.011742  0.006403   0.007152   0.000490   0.0103"
      ]
     },
     "execution_count": 19,
     "metadata": {},
     "output_type": "execute_result"
    }
   ],
   "source": [
    "stocks_return['RF Rate'] = 0.0103\n",
    "stocks_return.tail()"
   ]
  },
  {
   "cell_type": "code",
   "execution_count": 21,
   "metadata": {},
   "outputs": [
    {
     "data": {
      "text/plain": [
       "-0.011269427871314531"
      ]
     },
     "execution_count": 21,
     "metadata": {},
     "output_type": "execute_result"
    }
   ],
   "source": [
    "traynor_ratio = ((stocks_return['Portfolio'].mean() - stocks_return['RF Rate'].mean()))/portfolio_beta\n",
    "traynor_ratio"
   ]
  },
  {
   "cell_type": "code",
   "execution_count": null,
   "metadata": {
    "collapsed": true
   },
   "outputs": [],
   "source": []
  }
 ],
 "metadata": {
  "kernelspec": {
   "display_name": "Python 3",
   "language": "python",
   "name": "python3"
  },
  "language_info": {
   "codemirror_mode": {
    "name": "ipython",
    "version": 3
   },
   "file_extension": ".py",
   "mimetype": "text/x-python",
   "name": "python",
   "nbconvert_exporter": "python",
   "pygments_lexer": "ipython3",
   "version": "3.6.1"
  }
 },
 "nbformat": 4,
 "nbformat_minor": 2
}
