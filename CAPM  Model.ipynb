{
 "cells": [
  {
   "cell_type": "code",
   "execution_count": 1,
   "metadata": {
    "collapsed": true
   },
   "outputs": [],
   "source": [
    "#installing packages \n",
    "\n",
    "import numpy as np\n",
    "import pandas as pd\n",
    "from pandas_datareader import data as web\n",
    "import pandas_datareader\n",
    "import datetime\n",
    "import matplotlib.pyplot as plt\n",
    "from scipy import stats\n",
    "%matplotlib inline"
   ]
  },
  {
   "cell_type": "markdown",
   "metadata": {
    "collapsed": true
   },
   "source": [
    "# Creating a Portfolio"
   ]
  },
  {
   "cell_type": "code",
   "execution_count": 2,
   "metadata": {
    "collapsed": true
   },
   "outputs": [],
   "source": [
    "# Creating the portfolio weights (4 weights)\n",
    "\n",
    "portfolio_weights = np.array([0.30, 0.20, 0.25, 0.25])"
   ]
  },
  {
   "cell_type": "code",
   "execution_count": 3,
   "metadata": {
    "collapsed": true
   },
   "outputs": [],
   "source": [
    "# Creating the porftolio (4 variables)"
   ]
  },
  {
   "cell_type": "code",
   "execution_count": 5,
   "metadata": {
    "collapsed": true
   },
   "outputs": [],
   "source": [
    "start = datetime.datetime(2014, 1, 2)\n",
    "end = datetime.datetime(2019, 1, 1)\n",
    "\n",
    "tickers = ['NFLX', 'DIS', 'TSLA', 'AMZN']\n",
    "stocks = pd.DataFrame()\n",
    "for x in tickers:\n",
    "    stocks[x] = web.DataReader(x, 'yahoo', start, end)['Close']\n"
   ]
  },
  {
   "cell_type": "code",
   "execution_count": 111,
   "metadata": {
    "collapsed": true
   },
   "outputs": [],
   "source": [
    "# Creating the return of the portfolio (not logarithmic mathematically correct rp = w1r1 + w2r2)\n",
    "\n",
    "stocks_return = (stocks/stocks.shift(1))"
   ]
  },
  {
   "cell_type": "code",
   "execution_count": 112,
   "metadata": {},
   "outputs": [
    {
     "data": {
      "text/html": [
       "<div>\n",
       "<style>\n",
       "    .dataframe thead tr:only-child th {\n",
       "        text-align: right;\n",
       "    }\n",
       "\n",
       "    .dataframe thead th {\n",
       "        text-align: left;\n",
       "    }\n",
       "\n",
       "    .dataframe tbody tr th {\n",
       "        vertical-align: top;\n",
       "    }\n",
       "</style>\n",
       "<table border=\"1\" class=\"dataframe\">\n",
       "  <thead>\n",
       "    <tr style=\"text-align: right;\">\n",
       "      <th></th>\n",
       "      <th>NFLX</th>\n",
       "      <th>DIS</th>\n",
       "      <th>TSLA</th>\n",
       "      <th>AMZN</th>\n",
       "    </tr>\n",
       "    <tr>\n",
       "      <th>Date</th>\n",
       "      <th></th>\n",
       "      <th></th>\n",
       "      <th></th>\n",
       "      <th></th>\n",
       "    </tr>\n",
       "  </thead>\n",
       "  <tbody>\n",
       "    <tr>\n",
       "      <th>2014-01-03</th>\n",
       "      <td>1.000772</td>\n",
       "      <td>0.997902</td>\n",
       "      <td>0.996402</td>\n",
       "      <td>0.996155</td>\n",
       "    </tr>\n",
       "    <tr>\n",
       "      <th>2014-01-06</th>\n",
       "      <td>0.990278</td>\n",
       "      <td>0.996190</td>\n",
       "      <td>0.982883</td>\n",
       "      <td>0.992912</td>\n",
       "    </tr>\n",
       "    <tr>\n",
       "      <th>2014-01-07</th>\n",
       "      <td>0.944183</td>\n",
       "      <td>1.006858</td>\n",
       "      <td>1.016054</td>\n",
       "      <td>1.011178</td>\n",
       "    </tr>\n",
       "    <tr>\n",
       "      <th>2014-01-08</th>\n",
       "      <td>1.004389</td>\n",
       "      <td>0.985329</td>\n",
       "      <td>1.012855</td>\n",
       "      <td>1.009773</td>\n",
       "    </tr>\n",
       "    <tr>\n",
       "      <th>2014-01-09</th>\n",
       "      <td>0.988445</td>\n",
       "      <td>0.995746</td>\n",
       "      <td>0.975212</td>\n",
       "      <td>0.997736</td>\n",
       "    </tr>\n",
       "  </tbody>\n",
       "</table>\n",
       "</div>"
      ],
      "text/plain": [
       "                NFLX       DIS      TSLA      AMZN\n",
       "Date                                              \n",
       "2014-01-03  1.000772  0.997902  0.996402  0.996155\n",
       "2014-01-06  0.990278  0.996190  0.982883  0.992912\n",
       "2014-01-07  0.944183  1.006858  1.016054  1.011178\n",
       "2014-01-08  1.004389  0.985329  1.012855  1.009773\n",
       "2014-01-09  0.988445  0.995746  0.975212  0.997736"
      ]
     },
     "execution_count": 112,
     "metadata": {},
     "output_type": "execute_result"
    }
   ],
   "source": [
    "# drop missing values\n",
    "\n",
    "stocks_return.dropna().head()"
   ]
  },
  {
   "cell_type": "code",
   "execution_count": 113,
   "metadata": {},
   "outputs": [
    {
     "data": {
      "text/html": [
       "<div>\n",
       "<style>\n",
       "    .dataframe thead tr:only-child th {\n",
       "        text-align: right;\n",
       "    }\n",
       "\n",
       "    .dataframe thead th {\n",
       "        text-align: left;\n",
       "    }\n",
       "\n",
       "    .dataframe tbody tr th {\n",
       "        vertical-align: top;\n",
       "    }\n",
       "</style>\n",
       "<table border=\"1\" class=\"dataframe\">\n",
       "  <thead>\n",
       "    <tr style=\"text-align: right;\">\n",
       "      <th></th>\n",
       "      <th>NFLX</th>\n",
       "      <th>DIS</th>\n",
       "      <th>TSLA</th>\n",
       "      <th>AMZN</th>\n",
       "    </tr>\n",
       "    <tr>\n",
       "      <th>Date</th>\n",
       "      <th></th>\n",
       "      <th></th>\n",
       "      <th></th>\n",
       "      <th></th>\n",
       "    </tr>\n",
       "  </thead>\n",
       "  <tbody>\n",
       "    <tr>\n",
       "      <th>2014-01-02</th>\n",
       "      <td>NaN</td>\n",
       "      <td>NaN</td>\n",
       "      <td>NaN</td>\n",
       "      <td>NaN</td>\n",
       "    </tr>\n",
       "    <tr>\n",
       "      <th>2014-01-03</th>\n",
       "      <td>0.300232</td>\n",
       "      <td>0.199580</td>\n",
       "      <td>0.249101</td>\n",
       "      <td>0.249039</td>\n",
       "    </tr>\n",
       "    <tr>\n",
       "      <th>2014-01-06</th>\n",
       "      <td>0.297083</td>\n",
       "      <td>0.199238</td>\n",
       "      <td>0.245721</td>\n",
       "      <td>0.248228</td>\n",
       "    </tr>\n",
       "    <tr>\n",
       "      <th>2014-01-07</th>\n",
       "      <td>0.283255</td>\n",
       "      <td>0.201372</td>\n",
       "      <td>0.254014</td>\n",
       "      <td>0.252794</td>\n",
       "    </tr>\n",
       "    <tr>\n",
       "      <th>2014-01-08</th>\n",
       "      <td>0.301317</td>\n",
       "      <td>0.197066</td>\n",
       "      <td>0.253214</td>\n",
       "      <td>0.252443</td>\n",
       "    </tr>\n",
       "  </tbody>\n",
       "</table>\n",
       "</div>"
      ],
      "text/plain": [
       "                NFLX       DIS      TSLA      AMZN\n",
       "Date                                              \n",
       "2014-01-02       NaN       NaN       NaN       NaN\n",
       "2014-01-03  0.300232  0.199580  0.249101  0.249039\n",
       "2014-01-06  0.297083  0.199238  0.245721  0.248228\n",
       "2014-01-07  0.283255  0.201372  0.254014  0.252794\n",
       "2014-01-08  0.301317  0.197066  0.253214  0.252443"
      ]
     },
     "execution_count": 113,
     "metadata": {},
     "output_type": "execute_result"
    }
   ],
   "source": [
    "weighted_returns_portfolio = stocks_return.mul(portfolio_weights, axis = 1)\n",
    "\n",
    "weighted_returns_portfolio.head()"
   ]
  },
  {
   "cell_type": "code",
   "execution_count": 114,
   "metadata": {
    "collapsed": true
   },
   "outputs": [],
   "source": [
    "#Calculating the returns of the portfolio\n",
    "\n",
    "stocks_return['Portfolio'] = weighted_returns_portfolio.sum(axis=1).dropna()"
   ]
  },
  {
   "cell_type": "code",
   "execution_count": 115,
   "metadata": {
    "collapsed": true
   },
   "outputs": [],
   "source": [
    "cumulative_returns = ((1+stocks_return[\"Portfolio\"]).cumprod()-1)"
   ]
  },
  {
   "cell_type": "code",
   "execution_count": 116,
   "metadata": {
    "collapsed": true
   },
   "outputs": [],
   "source": [
    "#add risk free rate to the dataframe (1 month or 3 months only one available for the investor)\n",
    "\n",
    "stocks_return['RF Rate'] = 0.0103"
   ]
  },
  {
   "cell_type": "code",
   "execution_count": 117,
   "metadata": {
    "collapsed": true
   },
   "outputs": [],
   "source": [
    "# calculate the exceess of the porfolio. \n",
    "\n",
    "stocks_return['excess'] = stocks_return['Portfolio'] - stocks_return['RF Rate']"
   ]
  },
  {
   "cell_type": "code",
   "execution_count": 118,
   "metadata": {},
   "outputs": [
    {
     "data": {
      "text/html": [
       "<div>\n",
       "<style>\n",
       "    .dataframe thead tr:only-child th {\n",
       "        text-align: right;\n",
       "    }\n",
       "\n",
       "    .dataframe thead th {\n",
       "        text-align: left;\n",
       "    }\n",
       "\n",
       "    .dataframe tbody tr th {\n",
       "        vertical-align: top;\n",
       "    }\n",
       "</style>\n",
       "<table border=\"1\" class=\"dataframe\">\n",
       "  <thead>\n",
       "    <tr style=\"text-align: right;\">\n",
       "      <th></th>\n",
       "      <th>NFLX</th>\n",
       "      <th>DIS</th>\n",
       "      <th>TSLA</th>\n",
       "      <th>AMZN</th>\n",
       "      <th>Portfolio</th>\n",
       "      <th>RF Rate</th>\n",
       "      <th>excess</th>\n",
       "    </tr>\n",
       "    <tr>\n",
       "      <th>Date</th>\n",
       "      <th></th>\n",
       "      <th></th>\n",
       "      <th></th>\n",
       "      <th></th>\n",
       "      <th></th>\n",
       "      <th></th>\n",
       "      <th></th>\n",
       "    </tr>\n",
       "  </thead>\n",
       "  <tbody>\n",
       "    <tr>\n",
       "      <th>2014-01-03</th>\n",
       "      <td>1.000772</td>\n",
       "      <td>0.997902</td>\n",
       "      <td>0.996402</td>\n",
       "      <td>0.996155</td>\n",
       "      <td>0.997951</td>\n",
       "      <td>0.0103</td>\n",
       "      <td>0.987651</td>\n",
       "    </tr>\n",
       "    <tr>\n",
       "      <th>2014-01-06</th>\n",
       "      <td>0.990278</td>\n",
       "      <td>0.996190</td>\n",
       "      <td>0.982883</td>\n",
       "      <td>0.992912</td>\n",
       "      <td>0.990270</td>\n",
       "      <td>0.0103</td>\n",
       "      <td>0.979970</td>\n",
       "    </tr>\n",
       "    <tr>\n",
       "      <th>2014-01-07</th>\n",
       "      <td>0.944183</td>\n",
       "      <td>1.006858</td>\n",
       "      <td>1.016054</td>\n",
       "      <td>1.011178</td>\n",
       "      <td>0.991435</td>\n",
       "      <td>0.0103</td>\n",
       "      <td>0.981135</td>\n",
       "    </tr>\n",
       "    <tr>\n",
       "      <th>2014-01-08</th>\n",
       "      <td>1.004389</td>\n",
       "      <td>0.985329</td>\n",
       "      <td>1.012855</td>\n",
       "      <td>1.009773</td>\n",
       "      <td>1.004039</td>\n",
       "      <td>0.0103</td>\n",
       "      <td>0.993739</td>\n",
       "    </tr>\n",
       "  </tbody>\n",
       "</table>\n",
       "</div>"
      ],
      "text/plain": [
       "                NFLX       DIS      TSLA      AMZN  Portfolio  RF Rate  \\\n",
       "Date                                                                     \n",
       "2014-01-03  1.000772  0.997902  0.996402  0.996155   0.997951   0.0103   \n",
       "2014-01-06  0.990278  0.996190  0.982883  0.992912   0.990270   0.0103   \n",
       "2014-01-07  0.944183  1.006858  1.016054  1.011178   0.991435   0.0103   \n",
       "2014-01-08  1.004389  0.985329  1.012855  1.009773   1.004039   0.0103   \n",
       "\n",
       "              excess  \n",
       "Date                  \n",
       "2014-01-03  0.987651  \n",
       "2014-01-06  0.979970  \n",
       "2014-01-07  0.981135  \n",
       "2014-01-08  0.993739  "
      ]
     },
     "execution_count": 118,
     "metadata": {},
     "output_type": "execute_result"
    }
   ],
   "source": [
    "stocks_return.head().dropna()\n"
   ]
  },
  {
   "cell_type": "code",
   "execution_count": 136,
   "metadata": {},
   "outputs": [
    {
     "data": {
      "text/html": [
       "<div>\n",
       "<style>\n",
       "    .dataframe thead tr:only-child th {\n",
       "        text-align: right;\n",
       "    }\n",
       "\n",
       "    .dataframe thead th {\n",
       "        text-align: left;\n",
       "    }\n",
       "\n",
       "    .dataframe tbody tr th {\n",
       "        vertical-align: top;\n",
       "    }\n",
       "</style>\n",
       "<table border=\"1\" class=\"dataframe\">\n",
       "  <thead>\n",
       "    <tr style=\"text-align: right;\">\n",
       "      <th></th>\n",
       "      <th>NFLX</th>\n",
       "      <th>DIS</th>\n",
       "      <th>TSLA</th>\n",
       "      <th>AMZN</th>\n",
       "      <th>Portfolio</th>\n",
       "      <th>RF Rate</th>\n",
       "      <th>excess</th>\n",
       "      <th>Market</th>\n",
       "    </tr>\n",
       "    <tr>\n",
       "      <th>Date</th>\n",
       "      <th></th>\n",
       "      <th></th>\n",
       "      <th></th>\n",
       "      <th></th>\n",
       "      <th></th>\n",
       "      <th></th>\n",
       "      <th></th>\n",
       "      <th></th>\n",
       "    </tr>\n",
       "  </thead>\n",
       "  <tbody>\n",
       "    <tr>\n",
       "      <th>2014-01-03</th>\n",
       "      <td>1.000772</td>\n",
       "      <td>0.997902</td>\n",
       "      <td>0.996402</td>\n",
       "      <td>0.996155</td>\n",
       "      <td>0.997951</td>\n",
       "      <td>0.0103</td>\n",
       "      <td>0.987651</td>\n",
       "      <td>0.999836</td>\n",
       "    </tr>\n",
       "    <tr>\n",
       "      <th>2014-01-06</th>\n",
       "      <td>0.990278</td>\n",
       "      <td>0.996190</td>\n",
       "      <td>0.982883</td>\n",
       "      <td>0.992912</td>\n",
       "      <td>0.990270</td>\n",
       "      <td>0.0103</td>\n",
       "      <td>0.979970</td>\n",
       "      <td>0.997102</td>\n",
       "    </tr>\n",
       "    <tr>\n",
       "      <th>2014-01-07</th>\n",
       "      <td>0.944183</td>\n",
       "      <td>1.006858</td>\n",
       "      <td>1.016054</td>\n",
       "      <td>1.011178</td>\n",
       "      <td>0.991435</td>\n",
       "      <td>0.0103</td>\n",
       "      <td>0.981135</td>\n",
       "      <td>1.006142</td>\n",
       "    </tr>\n",
       "    <tr>\n",
       "      <th>2014-01-08</th>\n",
       "      <td>1.004389</td>\n",
       "      <td>0.985329</td>\n",
       "      <td>1.012855</td>\n",
       "      <td>1.009773</td>\n",
       "      <td>1.004039</td>\n",
       "      <td>0.0103</td>\n",
       "      <td>0.993739</td>\n",
       "      <td>1.000218</td>\n",
       "    </tr>\n",
       "  </tbody>\n",
       "</table>\n",
       "</div>"
      ],
      "text/plain": [
       "                NFLX       DIS      TSLA      AMZN  Portfolio  RF Rate  \\\n",
       "Date                                                                     \n",
       "2014-01-03  1.000772  0.997902  0.996402  0.996155   0.997951   0.0103   \n",
       "2014-01-06  0.990278  0.996190  0.982883  0.992912   0.990270   0.0103   \n",
       "2014-01-07  0.944183  1.006858  1.016054  1.011178   0.991435   0.0103   \n",
       "2014-01-08  1.004389  0.985329  1.012855  1.009773   1.004039   0.0103   \n",
       "\n",
       "              excess    Market  \n",
       "Date                            \n",
       "2014-01-03  0.987651  0.999836  \n",
       "2014-01-06  0.979970  0.997102  \n",
       "2014-01-07  0.981135  1.006142  \n",
       "2014-01-08  0.993739  1.000218  "
      ]
     },
     "execution_count": 136,
     "metadata": {},
     "output_type": "execute_result"
    }
   ],
   "source": [
    "start = datetime.datetime(2014, 1, 2)\n",
    "end = datetime.datetime(2019, 1, 1)\n",
    "\n",
    "stocks_return['Market'] = web.DataReader('SPY','yahoo',start,end)['Close']\n",
    "\n",
    "stocks_return['Market'] = (stocks_return['Market']/stocks_return['Market'].shift(1))\n",
    "\n",
    "stocks_return.head().dropna()"
   ]
  },
  {
   "cell_type": "code",
   "execution_count": 139,
   "metadata": {},
   "outputs": [
    {
     "data": {
      "text/html": [
       "<div>\n",
       "<style>\n",
       "    .dataframe thead tr:only-child th {\n",
       "        text-align: right;\n",
       "    }\n",
       "\n",
       "    .dataframe thead th {\n",
       "        text-align: left;\n",
       "    }\n",
       "\n",
       "    .dataframe tbody tr th {\n",
       "        vertical-align: top;\n",
       "    }\n",
       "</style>\n",
       "<table border=\"1\" class=\"dataframe\">\n",
       "  <thead>\n",
       "    <tr style=\"text-align: right;\">\n",
       "      <th></th>\n",
       "      <th>NFLX</th>\n",
       "      <th>DIS</th>\n",
       "      <th>TSLA</th>\n",
       "      <th>AMZN</th>\n",
       "      <th>Portfolio</th>\n",
       "      <th>RF Rate</th>\n",
       "      <th>excess</th>\n",
       "      <th>Market</th>\n",
       "      <th>excess market</th>\n",
       "    </tr>\n",
       "    <tr>\n",
       "      <th>Date</th>\n",
       "      <th></th>\n",
       "      <th></th>\n",
       "      <th></th>\n",
       "      <th></th>\n",
       "      <th></th>\n",
       "      <th></th>\n",
       "      <th></th>\n",
       "      <th></th>\n",
       "      <th></th>\n",
       "    </tr>\n",
       "  </thead>\n",
       "  <tbody>\n",
       "    <tr>\n",
       "      <th>2014-01-03</th>\n",
       "      <td>1.000772</td>\n",
       "      <td>0.997902</td>\n",
       "      <td>0.996402</td>\n",
       "      <td>0.996155</td>\n",
       "      <td>0.997951</td>\n",
       "      <td>0.0103</td>\n",
       "      <td>0.987651</td>\n",
       "      <td>0.999836</td>\n",
       "      <td>0.989536</td>\n",
       "    </tr>\n",
       "    <tr>\n",
       "      <th>2014-01-06</th>\n",
       "      <td>0.990278</td>\n",
       "      <td>0.996190</td>\n",
       "      <td>0.982883</td>\n",
       "      <td>0.992912</td>\n",
       "      <td>0.990270</td>\n",
       "      <td>0.0103</td>\n",
       "      <td>0.979970</td>\n",
       "      <td>0.997102</td>\n",
       "      <td>0.986802</td>\n",
       "    </tr>\n",
       "    <tr>\n",
       "      <th>2014-01-07</th>\n",
       "      <td>0.944183</td>\n",
       "      <td>1.006858</td>\n",
       "      <td>1.016054</td>\n",
       "      <td>1.011178</td>\n",
       "      <td>0.991435</td>\n",
       "      <td>0.0103</td>\n",
       "      <td>0.981135</td>\n",
       "      <td>1.006142</td>\n",
       "      <td>0.995842</td>\n",
       "    </tr>\n",
       "    <tr>\n",
       "      <th>2014-01-08</th>\n",
       "      <td>1.004389</td>\n",
       "      <td>0.985329</td>\n",
       "      <td>1.012855</td>\n",
       "      <td>1.009773</td>\n",
       "      <td>1.004039</td>\n",
       "      <td>0.0103</td>\n",
       "      <td>0.993739</td>\n",
       "      <td>1.000218</td>\n",
       "      <td>0.989918</td>\n",
       "    </tr>\n",
       "  </tbody>\n",
       "</table>\n",
       "</div>"
      ],
      "text/plain": [
       "                NFLX       DIS      TSLA      AMZN  Portfolio  RF Rate  \\\n",
       "Date                                                                     \n",
       "2014-01-03  1.000772  0.997902  0.996402  0.996155   0.997951   0.0103   \n",
       "2014-01-06  0.990278  0.996190  0.982883  0.992912   0.990270   0.0103   \n",
       "2014-01-07  0.944183  1.006858  1.016054  1.011178   0.991435   0.0103   \n",
       "2014-01-08  1.004389  0.985329  1.012855  1.009773   1.004039   0.0103   \n",
       "\n",
       "              excess    Market  excess market  \n",
       "Date                                           \n",
       "2014-01-03  0.987651  0.999836       0.989536  \n",
       "2014-01-06  0.979970  0.997102       0.986802  \n",
       "2014-01-07  0.981135  1.006142       0.995842  \n",
       "2014-01-08  0.993739  1.000218       0.989918  "
      ]
     },
     "execution_count": 139,
     "metadata": {},
     "output_type": "execute_result"
    }
   ],
   "source": [
    "stocks_return['excess market'] = stocks_return['Market'] - stocks_return['RF Rate']\n",
    "\n",
    "stocks_return.head().dropna()"
   ]
  },
  {
   "cell_type": "code",
   "execution_count": 148,
   "metadata": {},
   "outputs": [
    {
     "data": {
      "text/html": [
       "<div>\n",
       "<style>\n",
       "    .dataframe thead tr:only-child th {\n",
       "        text-align: right;\n",
       "    }\n",
       "\n",
       "    .dataframe thead th {\n",
       "        text-align: left;\n",
       "    }\n",
       "\n",
       "    .dataframe tbody tr th {\n",
       "        vertical-align: top;\n",
       "    }\n",
       "</style>\n",
       "<table border=\"1\" class=\"dataframe\">\n",
       "  <thead>\n",
       "    <tr style=\"text-align: right;\">\n",
       "      <th></th>\n",
       "      <th>excess</th>\n",
       "      <th>excess market</th>\n",
       "    </tr>\n",
       "  </thead>\n",
       "  <tbody>\n",
       "    <tr>\n",
       "      <th>excess</th>\n",
       "      <td>0.001065</td>\n",
       "      <td>0.000091</td>\n",
       "    </tr>\n",
       "    <tr>\n",
       "      <th>excess market</th>\n",
       "      <td>0.000091</td>\n",
       "      <td>0.000070</td>\n",
       "    </tr>\n",
       "  </tbody>\n",
       "</table>\n",
       "</div>"
      ],
      "text/plain": [
       "                 excess  excess market\n",
       "excess         0.001065       0.000091\n",
       "excess market  0.000091       0.000070"
      ]
     },
     "execution_count": 148,
     "metadata": {},
     "output_type": "execute_result"
    }
   ],
   "source": [
    "#calculating Beta - covariance matrix\n",
    "\n",
    "covariance_matrix = stocks_return[['excess', 'excess market']].cov()\n",
    "covariance_matrix"
   ]
  },
  {
   "cell_type": "code",
   "execution_count": 149,
   "metadata": {},
   "outputs": [
    {
     "data": {
      "text/plain": [
       "9.069614420327874e-05"
      ]
     },
     "execution_count": 149,
     "metadata": {},
     "output_type": "execute_result"
    }
   ],
   "source": [
    "covariance_coefficient = covariance_coefficient = covariance_matrix.iloc[0, 1]\n",
    "covariance_coefficient"
   ]
  },
  {
   "cell_type": "code",
   "execution_count": 151,
   "metadata": {},
   "outputs": [
    {
     "data": {
      "text/plain": [
       "6.987461563736775e-05"
      ]
     },
     "execution_count": 151,
     "metadata": {},
     "output_type": "execute_result"
    }
   ],
   "source": [
    "variance_coefficient = stocks_return['excess market'].var()\n",
    "variance_coefficient"
   ]
  },
  {
   "cell_type": "code",
   "execution_count": 152,
   "metadata": {},
   "outputs": [
    {
     "data": {
      "text/plain": [
       "1.2979841588534764"
      ]
     },
     "execution_count": 152,
     "metadata": {},
     "output_type": "execute_result"
    }
   ],
   "source": [
    "# Beta calculation\n",
    "\n",
    "beta = covariance_coefficient/variance_coefficient\n",
    "beta"
   ]
  },
  {
   "cell_type": "code",
   "execution_count": 154,
   "metadata": {},
   "outputs": [
    {
     "data": {
      "text/plain": [
       "Date\n",
       "2018-12-26    1.406415\n",
       "2018-12-27    1.287570\n",
       "2018-12-28    1.319439\n",
       "2018-12-31    1.322427\n",
       "2019-01-02    1.279219\n",
       "dtype: float64"
      ]
     },
     "execution_count": 154,
     "metadata": {},
     "output_type": "execute_result"
    }
   ],
   "source": [
    "capm = stocks_return['RF Rate'] + beta*stocks_return['excess']\n",
    "capm.tail()"
   ]
  },
  {
   "cell_type": "code",
   "execution_count": null,
   "metadata": {
    "collapsed": true
   },
   "outputs": [],
   "source": []
  },
  {
   "cell_type": "code",
   "execution_count": null,
   "metadata": {
    "collapsed": true
   },
   "outputs": [],
   "source": []
  }
 ],
 "metadata": {
  "kernelspec": {
   "display_name": "Python 3",
   "language": "python",
   "name": "python3"
  },
  "language_info": {
   "codemirror_mode": {
    "name": "ipython",
    "version": 3
   },
   "file_extension": ".py",
   "mimetype": "text/x-python",
   "name": "python",
   "nbconvert_exporter": "python",
   "pygments_lexer": "ipython3",
   "version": "3.6.1"
  }
 },
 "nbformat": 4,
 "nbformat_minor": 2
}
